{
 "cells": [
  {
   "attachments": {},
   "cell_type": "markdown",
   "metadata": {},
   "source": [
    "## Iterators\n",
    "\n",
    "By now you have probably noticed that most container objects can be looped over using a for statement:\n",
    "\n",
    "for element in [1, 2, 3]:\n",
    "    print(element)\n",
    "for element in (1, 2, 3):\n",
    "    print(element)\n",
    "for key in {'one':1, 'two':2}:\n",
    "    print(key)\n",
    "for char in \"123\":\n",
    "    print(char)\n",
    "for line in open(\"myfile.txt\"):\n",
    "    print(line, end='')\n",
    "\n",
    "This style of access is clear, concise, and convenient. The use of iterators pervades and unifies Python. Behind the scenes, the for statement calls iter() on the container object. The function returns an iterator object that defines the method __next__() which accesses elements in the container one at a time. When there are no more elements, __next__() raises a StopIteration exception which tells the for loop to terminate. You can call the __next__() method using the next() built-in function; this example shows how it all works:\n",
    "\n",
    ">>>\n",
    ">>> s = 'abc'\n",
    ">>> it = iter(s)\n",
    ">>> it\n",
    "<str_iterator object at 0x10c90e650>\n",
    ">>> next(it)\n",
    "'a'\n",
    ">>> next(it)\n",
    "'b'\n",
    ">>> next(it)\n",
    "'c'\n",
    ">>> next(it)\n",
    "Traceback (most recent call last):\n",
    "  File \"<stdin>\", line 1, in <module>\n",
    "    next(it)\n",
    "StopIteration\n",
    "Having seen the mechanics behind the iterator protocol, it is easy to add iterator behavior to your classes. Define an __iter__() method which returns an object with a __next__() method. If the class defines __next__(), then __iter__() can just return self:\n",
    "\n",
    "class Reverse:\n",
    "    \"\"\"Iterator for looping over a sequence backwards.\"\"\"\n",
    "    def __init__(self, data):\n",
    "        self.data = data\n",
    "        self.index = len(data)\n",
    "\n",
    "    def __iter__(self):\n",
    "        return self\n",
    "\n",
    "    def __next__(self):\n",
    "        if self.index == 0:\n",
    "            raise StopIteration\n",
    "        self.index = self.index - 1\n",
    "        return self.data[self.index]\n",
    ">>>\n",
    ">>> rev = Reverse('spam')\n",
    ">>> iter(rev)\n",
    "<__main__.Reverse object at 0x00A1DB50>\n",
    ">>> for char in rev:\n",
    "...     print(char)\n",
    "...\n",
    "m\n",
    "a\n",
    "p\n",
    "s\n",
    "\n"
   ]
  },
  {
   "cell_type": "code",
   "execution_count": 4,
   "metadata": {},
   "outputs": [
    {
     "name": "stdout",
     "output_type": "stream",
     "text": [
      "Cartosat\n",
      "Resourcesat\n",
      "Cartosat\n",
      "Resourcesat\n",
      "Cartosat\n",
      "Resourcesat\n"
     ]
    }
   ],
   "source": [
    "class Satellite:\n",
    "\n",
    "\tdef __init__(self, name):\n",
    "\t\tself.name = name\n",
    "\t\n",
    "\tdef print(self):\n",
    "\t\tprint(self.name)\n",
    "\n",
    "cartosat = Satellite('Cartosat')\n",
    "resourcesat = Satellite('Resourcesat')\n",
    "\n",
    "cartosat.print()\n",
    "resourcesat.print()\n",
    "\n",
    "class SatellitesIterator:\n",
    "\n",
    "\tdef __init__(self, satellites_list):\n",
    "\t\tself.data = satellites_list\n",
    "\t\tself.index = 0\n",
    "\n",
    "\tdef __iter__(self):\n",
    "\t\treturn self\n",
    "\t\n",
    "\tdef __next__(self):\n",
    "\t\tif self.index > len(self.data) - 1:\n",
    "\t\t\traise StopIteration\n",
    "\t\tsat = self.data[self.index]\n",
    "\t\tself.index += 1\n",
    "\t\treturn sat\n",
    "\n",
    "sat_iter = SatellitesIterator([cartosat, resourcesat])\n",
    "sat_list = []\n",
    "sat_list.append(cartosat)\n",
    "sat_list.append(resourcesat)\n",
    "for sat in sat_iter:\n",
    "\tsat.print()\n",
    "\n",
    "for sat in sat_list:\n",
    "\tsat.print()"
   ]
  },
  {
   "cell_type": "code",
   "execution_count": 20,
   "metadata": {},
   "outputs": [
    {
     "data": {
      "text/plain": [
       "2"
      ]
     },
     "execution_count": 20,
     "metadata": {},
     "output_type": "execute_result"
    }
   ],
   "source": [
    "a = [1,2,3,4,5]\n",
    "b = iter(a)\n",
    "next(b)\n"
   ]
  },
  {
   "cell_type": "code",
   "execution_count": 23,
   "metadata": {},
   "outputs": [
    {
     "data": {
      "text/plain": [
       "5"
      ]
     },
     "execution_count": 23,
     "metadata": {},
     "output_type": "execute_result"
    }
   ],
   "source": [
    "next(b)"
   ]
  },
  {
   "attachments": {},
   "cell_type": "markdown",
   "metadata": {},
   "source": [
    "## Generators\n"
   ]
  },
  {
   "cell_type": "code",
   "execution_count": 6,
   "metadata": {},
   "outputs": [
    {
     "ename": "TypeError",
     "evalue": "'int' object is not iterable",
     "output_type": "error",
     "traceback": [
      "\u001b[1;31m---------------------------------------------------------------------------\u001b[0m",
      "\u001b[1;31mTypeError\u001b[0m                                 Traceback (most recent call last)",
      "\u001b[1;32mc:\\Users\\Administrator25\\Desktop\\PythonTraining\\day-1\\11_iterators-and-generators.ipynb Cell 6\u001b[0m in \u001b[0;36m<cell line: 12>\u001b[1;34m()\u001b[0m\n\u001b[0;32m      <a href='vscode-notebook-cell:/c%3A/Users/Administrator25/Desktop/PythonTraining/day-1/11_iterators-and-generators.ipynb#W5sZmlsZQ%3D%3D?line=8'>9</a>\u001b[0m \t\t\u001b[39mreturn\u001b[39;00m rnd\n\u001b[0;32m     <a href='vscode-notebook-cell:/c%3A/Users/Administrator25/Desktop/PythonTraining/day-1/11_iterators-and-generators.ipynb#W5sZmlsZQ%3D%3D?line=10'>11</a>\u001b[0m sat_gen \u001b[39m=\u001b[39m SatellitesGenerator(sat_list)\n\u001b[1;32m---> <a href='vscode-notebook-cell:/c%3A/Users/Administrator25/Desktop/PythonTraining/day-1/11_iterators-and-generators.ipynb#W5sZmlsZQ%3D%3D?line=11'>12</a>\u001b[0m \u001b[39mfor\u001b[39;00m sat \u001b[39min\u001b[39;00m sat_gen:\n\u001b[0;32m     <a href='vscode-notebook-cell:/c%3A/Users/Administrator25/Desktop/PythonTraining/day-1/11_iterators-and-generators.ipynb#W5sZmlsZQ%3D%3D?line=12'>13</a>\u001b[0m \t\u001b[39mprint\u001b[39m(sat)\n",
      "\u001b[1;31mTypeError\u001b[0m: 'int' object is not iterable"
     ]
    }
   ],
   "source": [
    "import random\n",
    "\n",
    "def SatellitesGenerator(sat_list):\n",
    "\ti = 0\n",
    "\twhile True:\n",
    "\t\trnd = i\n",
    "\t\ti += 1\n",
    "\t\t# yield rnd\n",
    "\t\treturn rnd\n",
    "\n",
    "sat_gen = SatellitesGenerator(sat_list)\n",
    "for sat in sat_gen:\n",
    "\tprint(sat)"
   ]
  },
  {
   "cell_type": "markdown",
   "metadata": {},
   "source": [
    "\n",
    "Generators are a simple and powerful tool for creating iterators. They are written like regular functions but use the yield statement whenever they want to return data. Each time next() is called on it, the generator resumes where it left off (it remembers all the data values and which statement was last executed). An example shows that generators can be trivially easy to create:\n",
    "\n",
    "def reverse(data):\n",
    "    for index in range(len(data)-1, -1, -1):\n",
    "        yield data[index]\n",
    ">>>\n",
    ">>> for char in reverse('golf'):\n",
    "...     print(char)\n",
    "...\n",
    "f\n",
    "l\n",
    "o\n",
    "g\n",
    "Anything that can be done with generators can also be done with class-based iterators as described in the previous section. What makes generators so compact is that the __iter__() and __next__() methods are created automatically.\n",
    "\n",
    "Another key feature is that the local variables and execution state are automatically saved between calls. This made the function easier to write and much more clear than an approach using instance variables like self.index and self.data.\n",
    "\n",
    "In addition to automatic method creation and saving program state, when generators terminate, they automatically raise StopIteration. In combination, these features make it easy to create iterators with no more effort than writing a regular function.\n",
    "\n",
    "## Generator Expressions\n",
    "\n",
    "Some simple generators can be coded succinctly as expressions using a syntax similar to list comprehensions but with parentheses instead of square brackets. These expressions are designed for situations where the generator is used right away by an enclosing function. Generator expressions are more compact but less versatile than full generator definitions and tend to be more memory friendly than equivalent list comprehensions.\n",
    "\n",
    "Examples:\n",
    "\n",
    ">>>\n",
    ">>> sum(i*i for i in range(10))                 # sum of squares\n",
    "285\n",
    "\n",
    ">>> xvec = [10, 20, 30]\n",
    ">>> yvec = [7, 5, 3]\n",
    ">>> sum(x*y for x,y in zip(xvec, yvec))         # dot product\n",
    "260\n",
    "\n",
    ">>> unique_words = set(word for line in page  for word in line.split())\n",
    "\n",
    ">>> valedictorian = max((student.gpa, student.name) for student in graduates)\n",
    "\n",
    ">>> data = 'golf'\n",
    ">>> list(data[i] for i in range(len(data)-1, -1, -1))\n",
    "['f', 'l', 'o', 'g']\n",
    "\n",
    "Footnotes\n",
    "\n",
    "1\n",
    "Except for one thing. Module objects have a secret read-only attribute called __dict__ which returns the dictionary used to implement the module’s namespace; the name __dict__ is an attribute but not a global name. Obviously, using this violates the abstraction of namespace implementation, and should be restricted to things like post-mortem debuggers.\n"
   ]
  }
 ],
 "metadata": {
  "kernelspec": {
   "display_name": "base",
   "language": "python",
   "name": "python3"
  },
  "language_info": {
   "codemirror_mode": {
    "name": "ipython",
    "version": 3
   },
   "file_extension": ".py",
   "mimetype": "text/x-python",
   "name": "python",
   "nbconvert_exporter": "python",
   "pygments_lexer": "ipython3",
   "version": "3.9.12"
  },
  "orig_nbformat": 4
 },
 "nbformat": 4,
 "nbformat_minor": 2
}
