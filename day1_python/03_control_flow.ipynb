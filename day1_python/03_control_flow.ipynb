{
 "cells": [
  {
   "cell_type": "markdown",
   "metadata": {},
   "source": [
    "# Control Flow\n",
    "\n",
    "- Conditional Statement\n",
    "- Loops"
   ]
  },
  {
   "cell_type": "markdown",
   "metadata": {},
   "source": [
    "# if Statement\n"
   ]
  },
  {
   "cell_type": "code",
   "execution_count": null,
   "metadata": {},
   "outputs": [],
   "source": [
    "\n",
    "# x = int(input(\"Please enter an integer: \"))\n",
    "# Please enter an integer: 42\n",
    "# if x < 0:\n",
    "#     x = 0\n",
    "#     print('Negative changed to zero')\n",
    "# elif x == 0:\n",
    "#     print('Zero')\n",
    "# elif x == 1:\n",
    "#     print('Single')\n",
    "# else:\n",
    "#     print('More')\n",
    "\n",
    "\n",
    "# 4.2. for Statements\n"
   ]
  },
  {
   "attachments": {},
   "cell_type": "markdown",
   "metadata": {},
   "source": [
    "# For Statement"
   ]
  },
  {
   "cell_type": "code",
   "execution_count": null,
   "metadata": {},
   "outputs": [],
   "source": [
    "# The for statement in Python differs a bit from what you may be used to in C or Pascal. Rather than always iterating over an arithmetic progression of numbers (like in Pascal), or giving the user the ability to define both the iteration step and halting condition (as C), Python’s for statement iterates over the items of any sequence (a list or a string), in the order that they appear in the sequence. For example (no pun intended):\n",
    "\n",
    "# >>>\n",
    "# # Measure some strings:\n",
    "# words = ['cat', 'window', 'defenestrate']\n",
    "# for w in words:\n",
    "#     print(w, len(w))\n",
    "\n",
    "# cat 3\n",
    "# window 6\n",
    "# defenestrate 12\n",
    "# Code that modifies a collection while iterating over that same collection can be tricky to get right. Instead, it is usually more straight-forward to loop over a copy of the collection or to create a new collection:\n",
    "\n",
    "# # Create a sample collection\n",
    "# users = {'Hans': 'active', 'Éléonore': 'inactive', '景太郎': 'active'}\n",
    "\n",
    "# # Strategy:  Iterate over a copy\n",
    "# for user, status in users.copy().items():\n",
    "#     if status == 'inactive':\n",
    "#         del users[user]\n",
    "\n",
    "# # Strategy:  Create a new collection\n",
    "# active_users = {}\n",
    "# for user, status in users.items():\n",
    "#     if status == 'active':\n",
    "#         active_users[user] = status\n"
   ]
  },
  {
   "cell_type": "markdown",
   "metadata": {},
   "source": [
    "# 4.3. The range() Function\n"
   ]
  },
  {
   "cell_type": "code",
   "execution_count": null,
   "metadata": {},
   "outputs": [],
   "source": [
    "# If you do need to iterate over a sequence of numbers, the built-in function range() comes in handy. It generates arithmetic progressions:\n",
    "\n",
    "# >>>\n",
    "# for i in range(5):\n",
    "#     print(i)\n",
    "\n",
    "# 0\n",
    "# 1\n",
    "# 2\n",
    "# 3\n",
    "# 4\n",
    "# The given end point is never part of the generated sequence; range(10) generates 10 values, the legal indices for items of a sequence of length 10. It is possible to let the range start at another number, or to specify a different increment (even negative; sometimes this is called the ‘step’):\n",
    "\n",
    "# >>>\n",
    "# list(range(5, 10))\n",
    "# [5, 6, 7, 8, 9]\n",
    "\n",
    "# list(range(0, 10, 3))\n",
    "# [0, 3, 6, 9]\n",
    "\n",
    "# list(range(-10, -100, -30))\n",
    "# [-10, -40, -70]\n",
    "# To iterate over the indices of a sequence, you can combine range() and len() as follows:\n",
    "\n",
    "# >>>\n",
    "# a = ['Mary', 'had', 'a', 'little', 'lamb']\n",
    "# for i in range(len(a)):\n",
    "#     print(i, a[i])\n",
    "\n",
    "# 0 Mary\n",
    "# 1 had\n",
    "# 2 a\n",
    "# 3 little\n",
    "# 4 lamb\n",
    "# In most such cases, however, it is convenient to use the enumerate() function, see Looping Techniques.\n",
    "\n",
    "# A strange thing happens if you just print a range:\n",
    "\n",
    "# >>>\n",
    "# range(10)\n",
    "# range(0, 10)\n",
    "# In many ways the object returned by range() behaves as if it is a list, but in fact it isn’t. It is an object which returns the successive items of the desired sequence when you iterate over it, but it doesn’t really make the list, thus saving space.\n",
    "\n",
    "# We say such an object is iterable, that is, suitable as a target for functions and constructs that expect something from which they can obtain successive items until the supply is exhausted. We have seen that the for statement is such a construct, while an example of a function that takes an iterable is sum():\n",
    "\n",
    "# >>>\n",
    "# sum(range(4))  # 0 + 1 + 2 + 3\n",
    "# 6\n",
    "# Later we will see more functions that return iterables and take iterables as arguments. In chapter Data Structures, we will discuss in more detail about list().\n",
    "\n"
   ]
  },
  {
   "cell_type": "markdown",
   "metadata": {},
   "source": [
    "# 4.4. break statement\n"
   ]
  },
  {
   "cell_type": "code",
   "execution_count": null,
   "metadata": {},
   "outputs": [],
   "source": [
    "# The break statement, like in C, breaks out of the innermost enclosing for or while loop.\n"
   ]
  },
  {
   "cell_type": "markdown",
   "metadata": {},
   "source": [
    "# 4.4. continue \n"
   ]
  },
  {
   "cell_type": "code",
   "execution_count": null,
   "metadata": {},
   "outputs": [],
   "source": [
    "# >>>\n",
    "# for num in range(2, 10):\n",
    "#     if num % 2 == 0:\n",
    "#         print(\"Found an even number\", num)\n",
    "#         continue\n",
    "#     print(\"Found an odd number\", num)"
   ]
  },
  {
   "cell_type": "markdown",
   "metadata": {},
   "source": [
    "# else Clause on Loops\n"
   ]
  },
  {
   "cell_type": "code",
   "execution_count": null,
   "metadata": {},
   "outputs": [],
   "source": [
    "# Loop statements may have an else clause\n",
    "# executed when the loop terminates through exhaustion of the iterable OR when the condition becomes false\n",
    "# but not when the loop is terminated by a break statement\n",
    "# following code searches for prime numbers\n",
    "\n",
    "# for n in range(2, 10):\n",
    "#     for x in range(2, n):\n",
    "#         if n % x == 0:\n",
    "#             print(n, 'equals', x, '*', n//x)\n",
    "#             break\n",
    "#     else:\n",
    "#         # loop fell through without finding a factor\n",
    "#         print(n, 'is a prime number')\n",
    "\n"
   ]
  },
  {
   "cell_type": "markdown",
   "metadata": {},
   "source": [
    "# 4.5. pass Statements\n"
   ]
  },
  {
   "cell_type": "code",
   "execution_count": null,
   "metadata": {},
   "outputs": [],
   "source": [
    "# The pass statement does nothing. It can be used when a statement is required syntactically but the program requires no action. For example:\n",
    "\n",
    "# >>>\n",
    "# while True:\n",
    "#     pass  # Busy-wait for keyboard interrupt (Ctrl+C)\n",
    "\n",
    "# commonly used for creating minimal classes:\n",
    "# class MyEmptyClass:\n",
    "#     pass\n",
    "\n",
    "# place-holder for a function or conditional body\n",
    "# def initlog(*args):\n",
    "#     pass   # Remember to implement this!\n",
    "\n"
   ]
  }
 ],
 "metadata": {
  "kernelspec": {
   "display_name": "base",
   "language": "python",
   "name": "python3"
  },
  "language_info": {
   "codemirror_mode": {
    "name": "ipython",
    "version": 3
   },
   "file_extension": ".py",
   "mimetype": "text/x-python",
   "name": "python",
   "nbconvert_exporter": "python",
   "pygments_lexer": "ipython3",
   "version": "3.9.13 (main, Aug 25 2022, 23:26:10) \n[GCC 11.2.0]"
  },
  "orig_nbformat": 4,
  "vscode": {
   "interpreter": {
    "hash": "4095d57798b1628b7f33f1a921bc89fcd37b28a4c0dc57e871f9f1caaa9e7954"
   }
  }
 },
 "nbformat": 4,
 "nbformat_minor": 2
}
