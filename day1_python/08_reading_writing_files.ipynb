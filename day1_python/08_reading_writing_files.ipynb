{
 "cells": [
  {
   "attachments": {},
   "cell_type": "markdown",
   "metadata": {},
   "source": [
    "# Reading and Writing Files\n",
    "\n",
    "## open()\n",
    "\n",
    "- returns a file object\n",
    "- open(filename, mode).\n",
    "\t- filename is well....filename\n",
    "\t- mode\n",
    "\t\t- 'w','r'(default), 'a' \n",
    "\t\t- 'b' appended makes mode binary\n",
    "\t\t- 'r+' both read and write\n",
    "\n",
    "f = open('workfile', 'w')\n",
    "\n",
    "- reading: platform specific (\\n and \\r\\n) --> \\n\n",
    "- writing: \\n --> platform specific\n",
    "\n",
    "# Methods( ) of File Objects\n",
    "\n",
    "- f.read(size)\n",
    "\t- returns string (in text mode)\n",
    "\t- bytes object (in binary mode)\n",
    "\t- size is an optional. If not specified, whole file is read! be careful if file is large.\n",
    "\t- EOF will return an empty string ('')\n",
    "\n",
    "\n",
    "f.read()\n",
    "\n",
    "- f.readline()\n",
    "\t- reads a single line from the file\n",
    "\t- a newline character (\\n) is left at the end of the string\n",
    "\t- EOF will return an empty string ('')\n",
    "\n",
    "f.readline()\n",
    "'This is the first line of the file.\\n'\n",
    "f.readline()\n",
    "'Second line of the file\\n'\n",
    "\n",
    "- looping to read file \n",
    "\n",
    "for line in f:\n",
    "    print(line, end='')\n",
    "\n",
    "- f.readlines()\n",
    "\t- read all lines in a file\n",
    "\n",
    "- f.write(string)\n",
    "\t- writes the contents of string to the file\n",
    "\t- returns the number of characters written.\n",
    "\n",
    "f.write('This is a test\\n')\n",
    "\n",
    "- Objects need to be converted – string or bytes object, before writing\n",
    "\n",
    "- f.tell()\n",
    "\t- file object’s current position in the file as number of bytes from the beginning of the file in binary mode\n",
    "\t- opaque number when in text mode.\n",
    "\n",
    "- f.seek(offset, from_what)\n",
    "\t- from_what\n",
    "\t\t- 0: beginning of the file (default)\n",
    "\t\t- 1: current file position\n",
    "\t\t- 2: end of the file\n",
    "\t- text files\n",
    "\t\t- 0 is only valid\n",
    "\n",
    "\n",
    "- f.close()\n"
   ]
  },
  {
   "cell_type": "code",
   "execution_count": 1,
   "metadata": {},
   "outputs": [],
   "source": [
    "f = open('data.txt', 'w')\n",
    "f.write('first line\\n')\n",
    "f.write('second line\\n')\n",
    "f.write('third line\\n')\n",
    "f.close()"
   ]
  },
  {
   "cell_type": "code",
   "execution_count": 2,
   "metadata": {},
   "outputs": [
    {
     "name": "stdout",
     "output_type": "stream",
     "text": [
      "['first line\\n', 'second line\\n', 'third line\\n']\n"
     ]
    }
   ],
   "source": [
    "f2 = open('data.txt', 'r')\n",
    "lines = f2.readlines()\n",
    "f2.close()\n",
    "print(lines)"
   ]
  },
  {
   "cell_type": "code",
   "execution_count": 9,
   "metadata": {},
   "outputs": [
    {
     "data": {
      "text/plain": [
       "True"
      ]
     },
     "execution_count": 9,
     "metadata": {},
     "output_type": "execute_result"
    }
   ],
   "source": [
    "# with keyword\n",
    "with open('data.txt', 'r') as f:\n",
    "    read_data = f.readline()\n",
    "f.closed"
   ]
  },
  {
   "cell_type": "markdown",
   "metadata": {},
   "source": [
    "# JSON\n",
    "\n",
    "- serializing/deserializing\n",
    "\n",
    "- json.dumps([1, 'simple', 'list']): returns string\n",
    "- json.dump(x, file)\n",
    "- x = json.load(file)\n"
   ]
  }
 ],
 "metadata": {
  "kernelspec": {
   "display_name": "base",
   "language": "python",
   "name": "python3"
  },
  "language_info": {
   "codemirror_mode": {
    "name": "ipython",
    "version": 3
   },
   "file_extension": ".py",
   "mimetype": "text/x-python",
   "name": "python",
   "nbconvert_exporter": "python",
   "pygments_lexer": "ipython3",
   "version": "3.9.12"
  },
  "orig_nbformat": 4
 },
 "nbformat": 4,
 "nbformat_minor": 2
}
