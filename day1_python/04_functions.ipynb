{
 "cells": [
  {
   "attachments": {},
   "cell_type": "markdown",
   "metadata": {},
   "source": [
    "# Functions\n",
    "\n",
    "\n",
    "    def function_name(arguments):\n",
    "        ----\n",
    "        ----\n",
    "        body\n",
    "        ----\n",
    "        ----\n",
    "\n",
    "        return return_value\n",
    "\n",
    "- keyword **def**\n",
    "- function name\n",
    "- parenthesized list of formal parameters. \n",
    "- body of the function must be indented.\n",
    "- local variables\n",
    "- global variables"
   ]
  },
  {
   "cell_type": "code",
   "execution_count": null,
   "metadata": {},
   "outputs": [],
   "source": [
    "# def sum(a, b):\n",
    "#     ans = a+ b\n",
    "#     return ans\n",
    "\n",
    "# s = sum(1, 2)\n",
    "# print(s)\n",
    "\n",
    "# procedure vs function\n",
    "\n",
    "# every function returns a value\n",
    "\n",
    "# return a list"
   ]
  },
  {
   "cell_type": "markdown",
   "metadata": {},
   "source": [
    "\n",
    "# Default Argument Values\n"
   ]
  },
  {
   "cell_type": "code",
   "execution_count": 10,
   "metadata": {},
   "outputs": [
    {
     "name": "stdout",
     "output_type": "stream",
     "text": [
      "103\n",
      "503\n"
     ]
    }
   ],
   "source": [
    "def sum(a, b, bias=100):\n",
    "    ans = a + b + bias\n",
    "    return ans\n",
    "\n",
    "s = sum(1, 2) #mandatory args\n",
    "print(s)\n",
    "s = sum(1, 2, 500) #optional args\n",
    "print(s)\n"
   ]
  },
  {
   "attachments": {},
   "cell_type": "markdown",
   "metadata": {},
   "source": [
    "# Keyword Arguments\n"
   ]
  },
  {
   "cell_type": "code",
   "execution_count": 1,
   "metadata": {},
   "outputs": [
    {
     "name": "stdout",
     "output_type": "stream",
     "text": [
      "perform algo...\n",
      "mandatory_arg =  2\n",
      "param1 =  5\n",
      "param2 =  7\n",
      "param3 =  45\n"
     ]
    }
   ],
   "source": [
    "# kwarg=value\n",
    "\n",
    "def my_algorithm(mandatory_arg, param1, param2, param3):\n",
    "    print('perform algo...')\n",
    "    print('mandatory_arg = ', mandatory_arg)\n",
    "    print('param1 = ', param1)\n",
    "    print('param2 = ', param2)\n",
    "    print('param3 = ', param3)\n",
    "    \n",
    "    \n",
    "\n",
    "my_algorithm(2, 5, 7, 45)\n",
    "# my_algorithm(2, param1=5, param2=7, param3=45) # using kwarg\n",
    "# my_algorithm(2, param3=45, param2=7, param1=5) # using kwarg"
   ]
  },
  {
   "cell_type": "markdown",
   "metadata": {},
   "source": [
    "# *arguments and **kwargs"
   ]
  },
  {
   "cell_type": "code",
   "execution_count": null,
   "metadata": {},
   "outputs": [],
   "source": [
    "def cheeseshop(kind, *arguments, **keywords):\n",
    "    print(\"-- Do you have any\", kind, \"?\")\n",
    "    print(\"-- I'm sorry, we're all out of\", kind)\n",
    "    for arg in arguments:\n",
    "        print(arg)\n",
    "    print(\"-\" * 40)\n",
    "    for kw in keywords:\n",
    "        print(kw, \":\", keywords[kw])\n",
    "\n",
    "# kind is formal parameter list\n",
    "# *arguments: tuple containing more positional arguments\n",
    "# **keywords: dictionary containing kwargs\n",
    "\n",
    "# can be called like this:\n",
    "\n",
    "# cheeseshop(\"Limburger\", \"It's very runny, sir.\",\n",
    "#            \"It's really very, VERY runny, sir.\",\n",
    "#            shopkeeper=\"Michael Palin\",\n",
    "#            client=\"John Cleese\",\n",
    "#            sketch=\"Cheese Shop Sketch\")"
   ]
  },
  {
   "cell_type": "code",
   "execution_count": 7,
   "metadata": {},
   "outputs": [
    {
     "name": "stdout",
     "output_type": "stream",
     "text": [
      "{'a': 1, 'b': 2}\n"
     ]
    }
   ],
   "source": [
    "def func(**kwargs):\n",
    "    print(kwargs)\n",
    "\n",
    "# func(a=1,b=2)\n",
    "func(**{'a':1,'b':2})"
   ]
  },
  {
   "attachments": {},
   "cell_type": "markdown",
   "metadata": {},
   "source": [
    "\n",
    "# Arbitrary Argument Lists\n"
   ]
  },
  {
   "cell_type": "code",
   "execution_count": 4,
   "metadata": {},
   "outputs": [],
   "source": [
    "def sum(*args):\n",
    "    s = 0\n",
    "    for arg in args:\n",
    "        s += arg\n",
    "    return s\n",
    "\n",
    "s = sum(1,2,3,4,5)\n",
    "print(s)"
   ]
  },
  {
   "attachments": {},
   "cell_type": "markdown",
   "metadata": {},
   "source": [
    "# Unpacking Argument Lists\n"
   ]
  },
  {
   "cell_type": "code",
   "execution_count": null,
   "metadata": {},
   "outputs": [
    {
     "data": {
      "text/plain": [
       "3"
      ]
     },
     "execution_count": 11,
     "metadata": {},
     "output_type": "execute_result"
    }
   ],
   "source": [
    "# passing list as positional arguments\n",
    "\n",
    "list(range(3, 6))            # normal call with separate arguments\n",
    "args = [3, 6]\n",
    "list(range(*args))            # call with arguments unpacked from a list\n",
    "\n",
    "# passing dict as keyword arguments\n",
    "\n",
    "\n",
    "def sum(a, b):\n",
    "    return a + b\n",
    "\n",
    "mydict = {'a':1,'b':2}\n",
    "sum(**mydict)"
   ]
  },
  {
   "attachments": {},
   "cell_type": "markdown",
   "metadata": {},
   "source": [
    "# Lambda Expressions"
   ]
  },
  {
   "cell_type": "code",
   "execution_count": 12,
   "metadata": {},
   "outputs": [
    {
     "data": {
      "text/plain": [
       "3"
      ]
     },
     "execution_count": 12,
     "metadata": {},
     "output_type": "execute_result"
    }
   ],
   "source": [
    "# Small anonymous functions\n",
    "# Restricted to a single expression. \n",
    "# it is a normal function\n",
    "# can reference variables from the current scope\n",
    "\n",
    "sum = lambda a, b: a+b\n",
    "sum(1,2)\n",
    "\n",
    "\n"
   ]
  },
  {
   "attachments": {},
   "cell_type": "markdown",
   "metadata": {},
   "source": [
    "# Anonymous Functions\n",
    "\n",
    "- Not bound to a name\n",
    "\n",
    "# First class citizens\n",
    "\n",
    "- Entities which can be\n",
    "  - Passed as an argument\n",
    "  - Returned from a function\n",
    "  - Assigned to a variable"
   ]
  },
  {
   "cell_type": "code",
   "execution_count": null,
   "metadata": {},
   "outputs": [],
   "source": [
    "def sum(a, b):\n",
    "    return a + b\n",
    "\n",
    "f=sum\n",
    "f(1,2)\n",
    "\n",
    "def mult(func, x, y, z):\n",
    "    a = func(x, y)\n",
    "    return a + z\n",
    "\n",
    "mult(f, 1, 2, 3)"
   ]
  },
  {
   "attachments": {},
   "cell_type": "markdown",
   "metadata": {},
   "source": [
    "# Documentation Strings"
   ]
  },
  {
   "cell_type": "code",
   "execution_count": null,
   "metadata": {},
   "outputs": [],
   "source": [
    "#  def my_function():\n",
    "#      \"\"\"Do nothing, but document it.\n",
    "# \n",
    "#      No, really, it doesn't do anything.\n",
    "#      \"\"\"\n",
    "#      pass\n",
    "# \n",
    "# print(my_function.__doc__)"
   ]
  },
  {
   "attachments": {},
   "cell_type": "markdown",
   "metadata": {},
   "source": [
    "# Function Annotations\n"
   ]
  },
  {
   "cell_type": "code",
   "execution_count": 23,
   "metadata": {},
   "outputs": [
    {
     "data": {
      "text/plain": [
       "'abcdefgh'"
      ]
     },
     "execution_count": 23,
     "metadata": {},
     "output_type": "execute_result"
    }
   ],
   "source": [
    "def sum(a, b):\n",
    "    return a + b\n",
    "\n",
    "def sum1(x: int, y: int):\n",
    "    return (x + y)\n",
    "\n",
    "sum(1, 2)\n",
    "sum('abcd', 'efgh')\n",
    "sum1(1, 2)\n",
    "sum1('abcd', 'efgh')"
   ]
  },
  {
   "attachments": {},
   "cell_type": "markdown",
   "metadata": {},
   "source": [
    "# Coding Style\n",
    "\n",
    "- Readability counts\n",
    "- PEP 8\n",
    "  - Readable\n",
    "  - Eye pleasing\n",
    "- Use 4-space indentation, and no tabs.\n",
    "- Wrap lines so that they don’t exceed 79 characters.\n",
    "    - Small displays. Side-by-side on larger displays.\n",
    "- Use blank lines\n",
    "  - Separate functions and classes\n",
    "  - Larger blocks of code inside functions.\n",
    "- When possible, put comments on a line of their own.\n",
    "- Use docstrings.\n",
    "- Use spaces around operators and after commas\n",
    "  - not for brackets though\n",
    "  - a = f(1, 2) + g(3, 4).\n",
    "- Name your classes and functions consistently\n",
    "  - **UpperCamelCase** for classes\n",
    "  - **lowercase_with_underscores** for functions and methods. \n",
    "  - Always use **self** as the name for the first method argument"
   ]
  }
 ],
 "metadata": {
  "kernelspec": {
   "display_name": "base",
   "language": "python",
   "name": "python3"
  },
  "language_info": {
   "codemirror_mode": {
    "name": "ipython",
    "version": 3
   },
   "file_extension": ".py",
   "mimetype": "text/x-python",
   "name": "python",
   "nbconvert_exporter": "python",
   "pygments_lexer": "ipython3",
   "version": "3.9.12"
  },
  "orig_nbformat": 4,
  "vscode": {
   "interpreter": {
    "hash": "4095d57798b1628b7f33f1a921bc89fcd37b28a4c0dc57e871f9f1caaa9e7954"
   }
  }
 },
 "nbformat": 4,
 "nbformat_minor": 2
}
