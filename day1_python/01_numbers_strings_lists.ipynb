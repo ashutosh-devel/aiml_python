{
 "cells": [
  {
   "attachments": {},
   "cell_type": "markdown",
   "metadata": {},
   "source": [
    "# Numbers"
   ]
  },
  {
   "attachments": {},
   "cell_type": "markdown",
   "metadata": {},
   "source": [
    "# Calculator"
   ]
  },
  {
   "cell_type": "code",
   "execution_count": 1,
   "metadata": {},
   "outputs": [],
   "source": [
    "# simple calculator: type an expression. operators +, -, * and / . parentheses (()) can be used for grouping\n",
    "\n",
    "# 2 + 2\n",
    "# 4\n",
    "# 50 - 5*6\n",
    "# 20\n",
    "# (50 - 5*6) / 4\n",
    "# 5.0\n",
    "# 8 / 5  # division always returns a floating point number\n"
   ]
  },
  {
   "attachments": {},
   "cell_type": "markdown",
   "metadata": {},
   "source": [
    "# Numbers"
   ]
  },
  {
   "cell_type": "code",
   "execution_count": null,
   "metadata": {},
   "outputs": [],
   "source": [
    "# The integer numbers are of type int\n",
    "# fractional part (e.g. 5.0, 1.6) have type float\n",
    "\n",
    "# Division (/) always returns a float\n",
    "# To do floor division and get an integer result you can use the // operator\n",
    "# to calculate the remainder you can use %:\n",
    "\n",
    "17 / 3  # classic division returns a float\n",
    "5.666666666666667\n",
    "17 // 3  # floor division discards the fractional part\n",
    "5\n",
    "17 % 3  # the % operator returns the remainder of the division\n",
    "2\n",
    "5 * 3 + 2  # floored quotient * divisor + remainder\n",
    "17\n",
    "\n",
    "# ** operator to calculate powers\n",
    "\n",
    "5 ** 2  # 5 squared\n",
    "25\n",
    "2 ** 7  # 2 to the power of 7\n",
    "128\n",
    "\n",
    "# The equal sign (=) is used to assign a value to a variable. Afterwards, no result is displayed before the next interactive prompt:\n",
    "\n",
    "# width = 20\n",
    "# height = 5 * 9\n",
    "# width * height\n",
    "\n",
    "# In interactive mode, the last printed expression is assigned to the variable _. This means that when you are using Python as a desk calculator, it is somewhat easier to continue calculations, for example:\n",
    "\n",
    "# tax = 12.5 / 100\n",
    "# price = 100.50\n",
    "# price * tax\n",
    "# 12.5625\n",
    "# price + _\n",
    "\n",
    "# _ is read-only\n",
    "\n",
    "# Decimal and Fraction. \n",
    "\n",
    "# Built-in support for complex numbers\n",
    "# 3+5j\n"
   ]
  },
  {
   "attachments": {},
   "cell_type": "markdown",
   "metadata": {},
   "source": [
    "# Strings"
   ]
  },
  {
   "cell_type": "code",
   "execution_count": null,
   "metadata": {},
   "outputs": [],
   "source": [
    "\n",
    "# single quotes ('...') or double quotes (\"...\")\n",
    "\n",
    "# 'spam eggs'  # single quotes\n",
    "# 'spam eggs'\n",
    "# 'doesn\\'t'  # use \\' to escape the single quote...\n",
    "# \"doesn't\"  # ...or use double quotes instead\n",
    "\n",
    "# raw strings\n",
    "# print('C:\\some\\name')  # here \\n means newline!\n",
    "# print(r'C:\\some\\name')  # note the r before the quote\n",
    "\n",
    "# multiple lines. triple-quotes: \"\"\"...\"\"\" or '''...'''. \n",
    "\n",
    "# print(\"\"\"\\\n",
    "# Usage: thingy [OPTIONS]\n",
    "#      -h                        Display this usage message\n",
    "#      -H hostname               Hostname to connect to\n",
    "# \"\"\")\n",
    "\n",
    "\n",
    "#concatenation + operator\n",
    "# 'Hello ' + 'World'\n",
    "\n",
    "# repeated with *:\n",
    "# 'Hello ' * 3\n",
    "\n",
    "# Concatenation 'Py' 'thon'\n",
    "# text = ('Put several strings within parentheses '\n",
    "        # 'to have them joined together.')\n",
    "\n",
    "# Indexing. first character having index 0. \n",
    "# There is no separate character type; a character is simply a string of size one:\n",
    "\n",
    "# word = 'Python'\n",
    "# word[0]  # character in position 0\n",
    "# word[5]  # character in position 5\n",
    "\n",
    "# Negative Indices\n",
    "\n",
    "# word[-1]  # last character\n",
    "\n",
    "# Slicing \n",
    "# word[0:2]\n",
    "\n",
    "# Slicing: omitted first index defaults to zero\n",
    "# word[:2]   # character from the beginning to position 2 (excluded)\n",
    "\n",
    "# Slicing: omitted second index defaults to the size of the string being sliced.\n",
    "# word[4:]   # characters from position 4 (included) to the end\n",
    "# start is always included, and end always excluded\n",
    "\n",
    "\n",
    "# Slicing mnemonic\n",
    "#  +---+---+---+---+---+---+\n",
    "#  | P | y | t | h | o | n |\n",
    "#  +---+---+---+---+---+---+\n",
    "#  0   1   2   3   4   5   6\n",
    "# -6  -5  -4  -3  -2  -1\n",
    "\n",
    "\n",
    "# index too large, will result in an error:\n",
    "\n",
    "# Python strings are immutable. will result in error\n",
    "# word[0] = 'J'\n",
    "\n",
    "# The built-in function len() returns the length of a string:\n",
    "\n",
    "# s = 'Pneumono­ultra­microscopic­silico­volcano­coniosis'\n",
    "# len(s)\n"
   ]
  },
  {
   "attachments": {},
   "cell_type": "markdown",
   "metadata": {},
   "source": [
    "# Lists\n"
   ]
  },
  {
   "cell_type": "code",
   "execution_count": null,
   "metadata": {},
   "outputs": [],
   "source": [
    "# compound data types. as a list of comma-separated values (items) between square brackets. \n",
    "# Lists might contain items of different types, but usually the items all have the same type.\n",
    "\n",
    "# squares = [1, 4, 9, 16, 25]\n",
    "\n",
    "# Indexing and slicing\n",
    "\n",
    "# squares[0]  # indexing returns the item\n",
    "# squares[-1]\n",
    "# squares[-3:]  # slicing returns a new list\n",
    "\n",
    "# Slice operations return a new list. Shallow\n",
    "# squares[2:]\n",
    "\n",
    "# concatenation\n",
    "# squares + [36, 49, 64, 81, 100]\n",
    "\n",
    "# mutable type\n",
    "# cubes = [1, 8, 27, 65, 125]  # something's wrong here\n",
    "\n",
    "#append\n",
    "# cubes.append(216)  # add the cube of 6\n",
    "\n",
    "# Assignment to slices\n",
    "# letters = ['a', 'b', 'c', 'd', 'e', 'f', 'g']\n",
    "# letters[2:5] = ['C', 'D', 'E']\n",
    "# remove using slices\n",
    "# letters[2:5] = []\n",
    "\n",
    "# built-in function len()\n",
    "\n",
    "# letters = ['a', 'b', 'c', 'd']\n",
    "# len(letters)\n",
    "\n",
    "# nesting lists\n",
    "# a = [['a', 'b', 'c'], [1,2,3]]"
   ]
  }
 ],
 "metadata": {
  "kernelspec": {
   "display_name": "base",
   "language": "python",
   "name": "python3"
  },
  "language_info": {
   "codemirror_mode": {
    "name": "ipython",
    "version": 3
   },
   "file_extension": ".py",
   "mimetype": "text/x-python",
   "name": "python",
   "nbconvert_exporter": "python",
   "pygments_lexer": "ipython3",
   "version": "3.9.13"
  },
  "orig_nbformat": 4,
  "vscode": {
   "interpreter": {
    "hash": "4095d57798b1628b7f33f1a921bc89fcd37b28a4c0dc57e871f9f1caaa9e7954"
   }
  }
 },
 "nbformat": 4,
 "nbformat_minor": 2
}
