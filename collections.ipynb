{
 "cells": [
  {
   "cell_type": "markdown",
   "metadata": {},
   "source": [
    "# Collections Module # "
   ]
  },
  {
   "cell_type": "markdown",
   "metadata": {},
   "source": [
    "# Namedtuple : Improving Code Readability"
   ]
  },
  {
   "cell_type": "code",
   "execution_count": 1,
   "metadata": {
    "scrolled": true
   },
   "outputs": [
    {
     "name": "stdout",
     "output_type": "stream",
     "text": [
      "romance\n",
      "Brad Pitt\n",
      "8.5\n"
     ]
    }
   ],
   "source": [
    "# The field values are passed as a string seperated by ' '\n",
    "from collections import namedtuple\n",
    "movie = namedtuple('movie','genre rating lead_actor')\n",
    "\n",
    "#create instances of movie\n",
    "ironman = movie(genre='action',rating=8.5,lead_actor='robert downey')\n",
    "titanic = movie(genre='romance',rating=8,lead_actor='leonardo')\n",
    "seven = movie(genre='crime',rating=9,lead_actor='Brad Pitt')\n",
    "\n",
    "#Access the fields\n",
    "print(titanic.genre)\n",
    "print(seven.lead_actor)\n",
    "print(ironman.rating)"
   ]
  },
  {
   "cell_type": "markdown",
   "metadata": {},
   "source": [
    "    # Second Example"
   ]
  },
  {
   "cell_type": "code",
   "execution_count": 2,
   "metadata": {
    "scrolled": true
   },
   "outputs": [
    {
     "name": "stdout",
     "output_type": "stream",
     "text": [
      "Point(x=2, y=4)\n",
      "2\n",
      "4\n",
      "2\n"
     ]
    }
   ],
   "source": [
    "from collections import namedtuple\n",
    "\n",
    "# Use a list of strings as field names\n",
    "Point = namedtuple(\"Point\", [\"x\", \"y\"])\n",
    "point = Point(2, 4)\n",
    "print(point)\n",
    "# Access the coordinates\n",
    "print(point.x)\n",
    "print(point.y)\n",
    "print(point[0])"
   ]
  },
  {
   "cell_type": "code",
   "execution_count": 3,
   "metadata": {},
   "outputs": [
    {
     "name": "stdout",
     "output_type": "stream",
     "text": [
      "Point(x=2, y=4)\n"
     ]
    }
   ],
   "source": [
    "# Use a string with comma-separated field names\n",
    "Point = namedtuple(\"Point\", \"x, y\")\n",
    "Point(2, 4)\n",
    "print(point)"
   ]
  },
  {
   "cell_type": "code",
   "execution_count": 4,
   "metadata": {},
   "outputs": [
    {
     "name": "stdout",
     "output_type": "stream",
     "text": [
      "Point(x=2, y=4)\n"
     ]
    }
   ],
   "source": [
    "# Use a string with space-separated field names\n",
    "Point = namedtuple(\"Point\", \"x y\")\n",
    "Point(2, 4)\n",
    "print(point)"
   ]
  },
  {
   "cell_type": "markdown",
   "metadata": {},
   "source": [
    "# Deque : Building Efficient Queues and Stacks"
   ]
  },
  {
   "cell_type": "code",
   "execution_count": 6,
   "metadata": {
    "scrolled": true
   },
   "outputs": [
    {
     "name": "stdout",
     "output_type": "stream",
     "text": [
      "deque(['Hi', 'This', 'is', 'Python', 'Training', 'Class'])\n"
     ]
    }
   ],
   "source": [
    "# Importing the deque\n",
    "from collections import deque  \n",
    "\n",
    "# Initialization\n",
    "l = ['Hi', 'This', 'is', 'Python', 'Training', 'Class']  \n",
    "myDeq = deque(l)  \n",
    "\n",
    "# Printing the deque\n",
    "print(myDeq)  "
   ]
  },
  {
   "cell_type": "code",
   "execution_count": 7,
   "metadata": {},
   "outputs": [
    {
     "name": "stdout",
     "output_type": "stream",
     "text": [
      "deque(['!!', 'Hi', 'This', 'is', 'Python', 'Training', 'Class', '!!'])\n"
     ]
    }
   ],
   "source": [
    "# Inserting at both the ends\n",
    "myDeq.append(\"!!\")  \n",
    "myDeq.appendleft(\"!!\")\n",
    "print(myDeq)"
   ]
  },
  {
   "cell_type": "code",
   "execution_count": 8,
   "metadata": {},
   "outputs": [
    {
     "name": "stdout",
     "output_type": "stream",
     "text": [
      "deque(['Hi', 'This', 'is', 'Python', 'Training', 'Class'])\n"
     ]
    }
   ],
   "source": [
    "# Removing from both the ends\n",
    "myDeq.pop()  \n",
    "myDeq.popleft()  \n",
    "print(myDeq)"
   ]
  },
  {
   "cell_type": "code",
   "execution_count": 9,
   "metadata": {},
   "outputs": [
    {
     "name": "stdout",
     "output_type": "stream",
     "text": [
      "deque(['Hi', 'User', 'This', 'is', 'Python', 'Training', 'Class'])\n"
     ]
    }
   ],
   "source": [
    "# Insertion at position 1\n",
    "myDeq.insert(1, \"User\")\n",
    "print(myDeq)"
   ]
  },
  {
   "cell_type": "code",
   "execution_count": 10,
   "metadata": {},
   "outputs": [
    {
     "name": "stdout",
     "output_type": "stream",
     "text": [
      "deque(['Hi', 'This', 'is', 'Python', 'Training', 'Class'])\n"
     ]
    }
   ],
   "source": [
    "# Insertion of Value User\n",
    "myDeq.remove(\"User\")\n",
    "print(myDeq)"
   ]
  },
  {
   "cell_type": "code",
   "execution_count": 11,
   "metadata": {},
   "outputs": [
    {
     "name": "stdout",
     "output_type": "stream",
     "text": [
      "count of Python in deque is :  1\n"
     ]
    }
   ],
   "source": [
    "print(\"count of Python in deque is : \", myDeq.count(\"Python\"))"
   ]
  },
  {
   "cell_type": "code",
   "execution_count": 12,
   "metadata": {},
   "outputs": [
    {
     "name": "stdout",
     "output_type": "stream",
     "text": [
      "deque(['Class', 'Training', 'Python', 'is', 'This', 'Hi'])\n"
     ]
    }
   ],
   "source": [
    "# Deque Reversal\n",
    "myDeq.reverse()\n",
    "print(myDeq)"
   ]
  },
  {
   "cell_type": "code",
   "execution_count": 13,
   "metadata": {},
   "outputs": [
    {
     "name": "stdout",
     "output_type": "stream",
     "text": [
      "deque(['Hi', 'Class', 'Training', 'Python', 'is', 'This'])\n"
     ]
    }
   ],
   "source": [
    "# Deque Rotation\n",
    "myDeq.rotate(1)\n",
    "print(myDeq)"
   ]
  },
  {
   "cell_type": "markdown",
   "metadata": {},
   "source": [
    "# defaultdict : Handling Missing Keys"
   ]
  },
  {
   "cell_type": "code",
   "execution_count": 14,
   "metadata": {
    "scrolled": true
   },
   "outputs": [
    {
     "ename": "KeyError",
     "evalue": "'fruit'",
     "output_type": "error",
     "traceback": [
      "\u001b[0;31m---------------------------------------------------------------------------\u001b[0m",
      "\u001b[0;31mKeyError\u001b[0m                                  Traceback (most recent call last)",
      "\u001b[0;32m<ipython-input-14-d74713e70683>\u001b[0m in \u001b[0;36m<module>\u001b[0;34m\u001b[0m\n\u001b[1;32m      1\u001b[0m \u001b[0mfavorites\u001b[0m \u001b[0;34m=\u001b[0m \u001b[0;34m{\u001b[0m\u001b[0;34m\"pet\"\u001b[0m\u001b[0;34m:\u001b[0m \u001b[0;34m\"dog\"\u001b[0m\u001b[0;34m,\u001b[0m \u001b[0;34m\"color\"\u001b[0m\u001b[0;34m:\u001b[0m \u001b[0;34m\"blue\"\u001b[0m\u001b[0;34m,\u001b[0m \u001b[0;34m\"language\"\u001b[0m\u001b[0;34m:\u001b[0m \u001b[0;34m\"Python\"\u001b[0m\u001b[0;34m}\u001b[0m\u001b[0;34m\u001b[0m\u001b[0m\n\u001b[1;32m      2\u001b[0m \u001b[0;34m\u001b[0m\u001b[0m\n\u001b[0;32m----> 3\u001b[0;31m \u001b[0mfavorites\u001b[0m\u001b[0;34m[\u001b[0m\u001b[0;34m\"fruit\"\u001b[0m\u001b[0;34m]\u001b[0m\u001b[0;34m\u001b[0m\u001b[0m\n\u001b[0m",
      "\u001b[0;31mKeyError\u001b[0m: 'fruit'"
     ]
    }
   ],
   "source": [
    "favorites = {\"pet\": \"dog\", \"color\": \"blue\", \"language\": \"Python\"}\n",
    "\n",
    "favorites[\"fruit\"]"
   ]
  },
  {
   "cell_type": "code",
   "execution_count": 15,
   "metadata": {
    "scrolled": true
   },
   "outputs": [
    {
     "data": {
      "text/plain": [
       "0"
      ]
     },
     "execution_count": 15,
     "metadata": {},
     "output_type": "execute_result"
    }
   ],
   "source": [
    "#Importing the dictionary\n",
    "from collections import defaultdict  \n",
    "\n",
    "# Initializing the dictionary\n",
    "dic = defaultdict(int)  \n",
    "\n",
    "# Adding the values\n",
    "dic[1] = 'a'  \n",
    "dic[2] = 'b'  \n",
    "dic[3] = 'c'  \n",
    "\n",
    "# Printing the dictionary\n",
    "dic[4]"
   ]
  },
  {
   "cell_type": "markdown",
   "metadata": {},
   "source": [
    "# OrderedDict : Keeping your dictionaries Ordered"
   ]
  },
  {
   "cell_type": "code",
   "execution_count": 16,
   "metadata": {
    "scrolled": true
   },
   "outputs": [
    {
     "name": "stdout",
     "output_type": "stream",
     "text": [
      "OrderedDict([('b', 2), ('d', 4), ('a', 1), ('c', 3)])\n"
     ]
    }
   ],
   "source": [
    "from collections import OrderedDict\n",
    "\n",
    "letters = OrderedDict(b=2, d=4, a=1, c=3)\n",
    "print(letters)                       "
   ]
  },
  {
   "cell_type": "code",
   "execution_count": 17,
   "metadata": {},
   "outputs": [
    {
     "name": "stdout",
     "output_type": "stream",
     "text": [
      "OrderedDict([('d', 4), ('a', 1), ('c', 3), ('b', 2)])\n"
     ]
    }
   ],
   "source": [
    "# Move b to the right end\n",
    "letters.move_to_end(\"b\")\n",
    "print(letters)"
   ]
  },
  {
   "cell_type": "code",
   "execution_count": 18,
   "metadata": {},
   "outputs": [
    {
     "name": "stdout",
     "output_type": "stream",
     "text": [
      "OrderedDict([('b', 2), ('d', 4), ('a', 1), ('c', 3)])\n"
     ]
    }
   ],
   "source": [
    "# Move b to the left end\n",
    "letters.move_to_end(\"b\", last=False)\n",
    "print(letters)"
   ]
  },
  {
   "cell_type": "code",
   "execution_count": 19,
   "metadata": {},
   "outputs": [
    {
     "name": "stdout",
     "output_type": "stream",
     "text": [
      "OrderedDict([('a', 1), ('b', 2), ('c', 3), ('d', 4)])\n"
     ]
    }
   ],
   "source": [
    "# Sort letters by key\n",
    "for key in sorted(letters):\n",
    "    letters.move_to_end(key)\n",
    "print(letters)"
   ]
  },
  {
   "cell_type": "markdown",
   "metadata": {},
   "source": [
    "    # Second Example"
   ]
  },
  {
   "cell_type": "code",
   "execution_count": 20,
   "metadata": {
    "scrolled": true
   },
   "outputs": [
    {
     "name": "stdout",
     "output_type": "stream",
     "text": [
      "True\n"
     ]
    }
   ],
   "source": [
    "from collections import OrderedDict\n",
    "\n",
    "# Regular dictionaries compare the content only\n",
    "letters_0 = dict(a=1, b=2, c=3, d=4)\n",
    "letters_1 = dict(b=2, a=1, d=4, c=3)\n",
    "print(letters_0 == letters_1)"
   ]
  },
  {
   "cell_type": "code",
   "execution_count": 21,
   "metadata": {},
   "outputs": [
    {
     "name": "stdout",
     "output_type": "stream",
     "text": [
      "False\n"
     ]
    }
   ],
   "source": [
    "# Ordered dictionaries compare content and order\n",
    "letters_0 = OrderedDict(a=1, b=2, c=3, d=4)\n",
    "letters_1 = OrderedDict(b=2, a=1, d=4, c=3)\n",
    "print(letters_0 == letters_1)"
   ]
  },
  {
   "cell_type": "code",
   "execution_count": 22,
   "metadata": {},
   "outputs": [
    {
     "name": "stdout",
     "output_type": "stream",
     "text": [
      "True\n"
     ]
    }
   ],
   "source": [
    "letters_2 = OrderedDict(a=1, b=2, c=3, d=4)\n",
    "print(letters_0 == letters_2)"
   ]
  },
  {
   "cell_type": "markdown",
   "metadata": {},
   "source": [
    "# Counter : Counting Objects in One Go"
   ]
  },
  {
   "cell_type": "code",
   "execution_count": 23,
   "metadata": {},
   "outputs": [
    {
     "data": {
      "text/plain": [
       "{'m': 1, 'i': 4, 's': 4, 'p': 2}"
      ]
     },
     "execution_count": 23,
     "metadata": {},
     "output_type": "execute_result"
    }
   ],
   "source": [
    "word = \"mississippi\"\n",
    "counter = {}\n",
    "\n",
    "for letter in word:\n",
    "    if letter not in counter:\n",
    "        counter[letter] = 0\n",
    "    counter[letter] += 1\n",
    "\n",
    "counter"
   ]
  },
  {
   "cell_type": "code",
   "execution_count": 24,
   "metadata": {},
   "outputs": [
    {
     "name": "stdout",
     "output_type": "stream",
     "text": [
      "Counter({'i': 4, 's': 4, 'p': 2, 'm': 1})\n"
     ]
    }
   ],
   "source": [
    "from collections import Counter\n",
    "\n",
    "letters = Counter(\"mississippi\")\n",
    "print(letters)"
   ]
  },
  {
   "cell_type": "code",
   "execution_count": 25,
   "metadata": {},
   "outputs": [
    {
     "name": "stdout",
     "output_type": "stream",
     "text": [
      "Counter({'i': 8, 'm': 4, 's': 4, 'p': 2})\n"
     ]
    }
   ],
   "source": [
    "# Update the counts of m and i\n",
    "letters.update(m=3, i=4)\n",
    "print(letters)"
   ]
  },
  {
   "cell_type": "code",
   "execution_count": 26,
   "metadata": {},
   "outputs": [
    {
     "name": "stdout",
     "output_type": "stream",
     "text": [
      "Counter({'i': 8, 'm': 4, 's': 4, 'p': 2, 'a': 2})\n"
     ]
    }
   ],
   "source": [
    "# Add a new key-count pair\n",
    "letters.update({\"a\": 2})\n",
    "print(letters)"
   ]
  },
  {
   "cell_type": "code",
   "execution_count": 27,
   "metadata": {},
   "outputs": [
    {
     "name": "stdout",
     "output_type": "stream",
     "text": [
      "Counter({'i': 8, 's': 6, 'm': 4, 'p': 3, 'a': 2})\n"
     ]
    }
   ],
   "source": [
    "# Update with another counter\n",
    "letters.update(Counter([\"s\", \"s\", \"p\"]))\n",
    "print(letters)"
   ]
  },
  {
   "cell_type": "markdown",
   "metadata": {},
   "source": [
    "    # Second Example"
   ]
  },
  {
   "cell_type": "code",
   "execution_count": 28,
   "metadata": {},
   "outputs": [
    {
     "name": "stdout",
     "output_type": "stream",
     "text": [
      "Counter({'dogs': 21, 'cats': 9, 'pythons': 6})\n"
     ]
    }
   ],
   "source": [
    "from collections import Counter\n",
    "\n",
    "inventory = Counter(dogs=23, cats=14, pythons=7)\n",
    "adopted = Counter(dogs=2, cats=5, pythons=1)\n",
    "inventory.subtract(adopted)\n",
    "print(inventory)"
   ]
  },
  {
   "cell_type": "code",
   "execution_count": 29,
   "metadata": {
    "scrolled": true
   },
   "outputs": [
    {
     "name": "stdout",
     "output_type": "stream",
     "text": [
      "Counter({'dogs': 25, 'cats': 10, 'pythons': 6})\n"
     ]
    }
   ],
   "source": [
    "new_pets = {\"dogs\": 4, \"cats\": 1}\n",
    "inventory.update(new_pets)\n",
    "print(inventory)"
   ]
  },
  {
   "cell_type": "code",
   "execution_count": 30,
   "metadata": {},
   "outputs": [
    {
     "name": "stdout",
     "output_type": "stream",
     "text": [
      "Counter({'dogs': 23, 'cats': 7, 'pythons': 5})\n"
     ]
    }
   ],
   "source": [
    "inventory = inventory-Counter(dogs=2,cats=3,pythons=1)\n",
    "print(inventory)"
   ]
  },
  {
   "cell_type": "code",
   "execution_count": 31,
   "metadata": {},
   "outputs": [
    {
     "name": "stdout",
     "output_type": "stream",
     "text": [
      "Counter({'dogs': 27, 'cats': 7, 'pythons': 7})\n"
     ]
    }
   ],
   "source": [
    "new_pets = {\"dogs\": 4, \"pythons\": 2}\n",
    "inventory += new_pets\n",
    "print(inventory)"
   ]
  },
  {
   "cell_type": "markdown",
   "metadata": {},
   "source": [
    "# ChainMap : Chaining Dictionaries Together"
   ]
  },
  {
   "cell_type": "code",
   "execution_count": 32,
   "metadata": {},
   "outputs": [
    {
     "data": {
      "text/plain": [
       "ChainMap({'1': 1, '2': 2}, {'a': 'A', 'b': 'B'})"
      ]
     },
     "execution_count": 32,
     "metadata": {},
     "output_type": "execute_result"
    }
   ],
   "source": [
    "from collections import ChainMap\n",
    "\n",
    "numbers = {\"1\": 1, \"2\": 2}\n",
    "letters = {\"a\": \"A\", \"b\": \"B\"}\n",
    "\n",
    "alpha_nums = ChainMap(numbers, letters)\n",
    "alpha_nums"
   ]
  },
  {
   "cell_type": "code",
   "execution_count": 33,
   "metadata": {},
   "outputs": [
    {
     "data": {
      "text/plain": [
       "[{'1': 1, '2': 2}, {'a': 'A', 'b': 'B'}]"
      ]
     },
     "execution_count": 33,
     "metadata": {},
     "output_type": "execute_result"
    }
   ],
   "source": [
    "alpha_nums.maps"
   ]
  },
  {
   "cell_type": "code",
   "execution_count": 34,
   "metadata": {},
   "outputs": [
    {
     "data": {
      "text/plain": [
       "ChainMap({'1': 1, '2': 2, '3': 3}, {'a': 'A', 'b': 'B'})"
      ]
     },
     "execution_count": 34,
     "metadata": {},
     "output_type": "execute_result"
    }
   ],
   "source": [
    "#Add a new key pair in first dict\n",
    "alpha_nums[\"3\"] = 3\n",
    "alpha_nums"
   ]
  },
  {
   "cell_type": "code",
   "execution_count": 35,
   "metadata": {},
   "outputs": [
    {
     "data": {
      "text/plain": [
       "ChainMap({'1': 1, '2': 2, '3': 3}, {'a': 'A', 'b': 'B', 'c': 'C'})"
      ]
     },
     "execution_count": 35,
     "metadata": {},
     "output_type": "execute_result"
    }
   ],
   "source": [
    "#To add a new key-pair in second dict\n",
    "alpha_nums.maps[1][\"c\"] = \"C\"\n",
    "alpha_nums"
   ]
  },
  {
   "cell_type": "code",
   "execution_count": 36,
   "metadata": {},
   "outputs": [
    {
     "data": {
      "text/plain": [
       "ChainMap({'1': 1, '3': 3}, {'a': 'A', 'b': 'B', 'c': 'C'})"
      ]
     },
     "execution_count": 36,
     "metadata": {},
     "output_type": "execute_result"
    }
   ],
   "source": [
    "#Pop key that exists in first dict\n",
    "alpha_nums.pop(\"2\")\n",
    "alpha_nums"
   ]
  },
  {
   "cell_type": "code",
   "execution_count": 37,
   "metadata": {},
   "outputs": [
    {
     "ename": "KeyError",
     "evalue": "\"Key not found in the first mapping: 'a'\"",
     "output_type": "error",
     "traceback": [
      "\u001b[0;31m---------------------------------------------------------------------------\u001b[0m",
      "\u001b[0;31mKeyError\u001b[0m                                  Traceback (most recent call last)",
      "\u001b[0;32m/home/c3s/anaconda3/lib/python3.7/collections/__init__.py\u001b[0m in \u001b[0;36m__delitem__\u001b[0;34m(self, key)\u001b[0m\n\u001b[1;32m    967\u001b[0m         \u001b[0;32mtry\u001b[0m\u001b[0;34m:\u001b[0m\u001b[0;34m\u001b[0m\u001b[0m\n\u001b[0;32m--> 968\u001b[0;31m             \u001b[0;32mdel\u001b[0m \u001b[0mself\u001b[0m\u001b[0;34m.\u001b[0m\u001b[0mmaps\u001b[0m\u001b[0;34m[\u001b[0m\u001b[0;36m0\u001b[0m\u001b[0;34m]\u001b[0m\u001b[0;34m[\u001b[0m\u001b[0mkey\u001b[0m\u001b[0;34m]\u001b[0m\u001b[0;34m\u001b[0m\u001b[0m\n\u001b[0m\u001b[1;32m    969\u001b[0m         \u001b[0;32mexcept\u001b[0m \u001b[0mKeyError\u001b[0m\u001b[0;34m:\u001b[0m\u001b[0;34m\u001b[0m\u001b[0m\n",
      "\u001b[0;31mKeyError\u001b[0m: 'a'",
      "\nDuring handling of the above exception, another exception occurred:\n",
      "\u001b[0;31mKeyError\u001b[0m                                  Traceback (most recent call last)",
      "\u001b[0;32m<ipython-input-37-6b38b67cc9eb>\u001b[0m in \u001b[0;36m<module>\u001b[0;34m\u001b[0m\n\u001b[1;32m      1\u001b[0m \u001b[0;31m#delete keys that don't exist in first dict\u001b[0m\u001b[0;34m\u001b[0m\u001b[0;34m\u001b[0m\u001b[0m\n\u001b[0;32m----> 2\u001b[0;31m \u001b[0;32mdel\u001b[0m \u001b[0malpha_nums\u001b[0m\u001b[0;34m[\u001b[0m\u001b[0;34m\"a\"\u001b[0m\u001b[0;34m]\u001b[0m\u001b[0;34m\u001b[0m\u001b[0m\n\u001b[0m",
      "\u001b[0;32m/home/c3s/anaconda3/lib/python3.7/collections/__init__.py\u001b[0m in \u001b[0;36m__delitem__\u001b[0;34m(self, key)\u001b[0m\n\u001b[1;32m    968\u001b[0m             \u001b[0;32mdel\u001b[0m \u001b[0mself\u001b[0m\u001b[0;34m.\u001b[0m\u001b[0mmaps\u001b[0m\u001b[0;34m[\u001b[0m\u001b[0;36m0\u001b[0m\u001b[0;34m]\u001b[0m\u001b[0;34m[\u001b[0m\u001b[0mkey\u001b[0m\u001b[0;34m]\u001b[0m\u001b[0;34m\u001b[0m\u001b[0m\n\u001b[1;32m    969\u001b[0m         \u001b[0;32mexcept\u001b[0m \u001b[0mKeyError\u001b[0m\u001b[0;34m:\u001b[0m\u001b[0;34m\u001b[0m\u001b[0m\n\u001b[0;32m--> 970\u001b[0;31m             \u001b[0;32mraise\u001b[0m \u001b[0mKeyError\u001b[0m\u001b[0;34m(\u001b[0m\u001b[0;34m'Key not found in the first mapping: {!r}'\u001b[0m\u001b[0;34m.\u001b[0m\u001b[0mformat\u001b[0m\u001b[0;34m(\u001b[0m\u001b[0mkey\u001b[0m\u001b[0;34m)\u001b[0m\u001b[0;34m)\u001b[0m\u001b[0;34m\u001b[0m\u001b[0m\n\u001b[0m\u001b[1;32m    971\u001b[0m \u001b[0;34m\u001b[0m\u001b[0m\n\u001b[1;32m    972\u001b[0m     \u001b[0;32mdef\u001b[0m \u001b[0mpopitem\u001b[0m\u001b[0;34m(\u001b[0m\u001b[0mself\u001b[0m\u001b[0;34m)\u001b[0m\u001b[0;34m:\u001b[0m\u001b[0;34m\u001b[0m\u001b[0m\n",
      "\u001b[0;31mKeyError\u001b[0m: \"Key not found in the first mapping: 'a'\""
     ]
    }
   ],
   "source": [
    "#delete keys that don't exist in first dict\n",
    "del alpha_nums[\"a\"]"
   ]
  },
  {
   "cell_type": "code",
   "execution_count": 38,
   "metadata": {},
   "outputs": [
    {
     "data": {
      "text/plain": [
       "ChainMap({'1': 1, '3': 3}, {'b': 'B', 'c': 'C'})"
      ]
     },
     "execution_count": 38,
     "metadata": {},
     "output_type": "execute_result"
    }
   ],
   "source": [
    "del alpha_nums.maps[1][\"a\"]\n",
    "alpha_nums"
   ]
  },
  {
   "cell_type": "code",
   "execution_count": 39,
   "metadata": {},
   "outputs": [
    {
     "data": {
      "text/plain": [
       "ChainMap({}, {'b': 'B', 'c': 'C'})"
      ]
     },
     "execution_count": 39,
     "metadata": {},
     "output_type": "execute_result"
    }
   ],
   "source": [
    "#Clear the dictionary\n",
    "alpha_nums.clear()\n",
    "alpha_nums"
   ]
  }
 ],
 "metadata": {
  "kernelspec": {
   "display_name": "Python 3",
   "language": "python",
   "name": "python3"
  },
  "language_info": {
   "codemirror_mode": {
    "name": "ipython",
    "version": 3
   },
   "file_extension": ".py",
   "mimetype": "text/x-python",
   "name": "python",
   "nbconvert_exporter": "python",
   "pygments_lexer": "ipython3",
   "version": "3.7.0"
  }
 },
 "nbformat": 4,
 "nbformat_minor": 2
}
