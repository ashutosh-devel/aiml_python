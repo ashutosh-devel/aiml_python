{
 "cells": [
  {
   "cell_type": "markdown",
   "metadata": {},
   "source": [
    "# Thread Creation - By extenting Thread Class"
   ]
  },
  {
   "cell_type": "code",
   "execution_count": 3,
   "metadata": {},
   "outputs": [
    {
     "name": "stdout",
     "output_type": "stream",
     "text": [
      "Thread1\n",
      "Thread2\n",
      "Thread2\n",
      "Thread2\n",
      "Thread2\n",
      "Thread2\n",
      "Thread1\n",
      "Thread1\n",
      "Thread1\n",
      "Thread1\n",
      "Done!\n"
     ]
    }
   ],
   "source": [
    "import threading \n",
    "#inherit Thread class and override init() \n",
    "# & run() function:\n",
    "class mythread(threading.Thread):\n",
    "    def __init__(self,msg): \n",
    "        super(mythread,self).__init__()\n",
    "        self.msg=msg \n",
    "    def run(self): \n",
    "        for i in range(5): \n",
    "            print(self.msg) \n",
    "#Create an object of Thread class to create new thread.\n",
    "t1 = mythread(\"Thread1\")\n",
    "t2 = mythread(\"Thread2\") \n",
    "#Call start method of Thread class to start thread\n",
    "t1.start() \n",
    "t2.start()\n",
    "#Once the threads start, the current program also \n",
    "#keeps on executing. In order to stop execution of \n",
    "#current program until a thread is complete,call join.\n",
    "t1.join()\n",
    "t2.join() \n",
    "# The current program will first wait for the completion \n",
    "#of t1 and then t2. Once, they are finished, the remaining \n",
    "#statements of current program are executed.\n",
    "print(\"Done!\")"
   ]
  },
  {
   "cell_type": "markdown",
   "metadata": {},
   "source": [
    "# Thread Creation - Without extenting Thread Class"
   ]
  },
  {
   "cell_type": "code",
   "execution_count": 33,
   "metadata": {},
   "outputs": [
    {
     "name": "stdout",
     "output_type": "stream",
     "text": [
      "Thread1\n",
      "Thread1Thread2\n",
      "Thread2\n",
      "Thread2\n",
      "Thread1\n",
      "Thread1\n",
      "Thread1\n",
      "\n",
      "Thread2\n",
      "Thread2\n",
      "Done!\n"
     ]
    }
   ],
   "source": [
    "import threading \n",
    "def display(msg): \n",
    "    for i in range(5): \n",
    "        print(msg) \n",
    "#Create an object of Thread class to create new thread.\n",
    "t1 = threading.Thread(target=display, args=(\"Thread1\",)) \n",
    "t2 = threading.Thread(target=display, args=(\"Thread2\",)) \n",
    "# To start a thread, we use start method of Thread class.\n",
    "t1.start() \n",
    "t2.start()\n",
    "#Once the threads start, the current program also \n",
    "#keeps on executing. In order to stop execution of \n",
    "#current program until a thread is complete,call join.\n",
    "t1.join()\n",
    "t2.join() \n",
    "# The current program will first wait for the completion \n",
    "#of t1 and then t2. Once, they are finished, the remaining \n",
    "#statements of current program are executed.\n",
    "print(\"Done!\")"
   ]
  },
  {
   "cell_type": "markdown",
   "metadata": {},
   "source": [
    "# Shared Data Access"
   ]
  },
  {
   "cell_type": "code",
   "execution_count": 43,
   "metadata": {},
   "outputs": [
    {
     "name": "stdout",
     "output_type": "stream",
     "text": [
      "29923\n"
     ]
    }
   ],
   "source": [
    "import threading \n",
    "x = 0\n",
    "def foo():\n",
    "    global x\n",
    "    for i in range(100000): x += 1\n",
    "        \n",
    "def bar():\n",
    "    global x\n",
    "    for i in range(100000): x -= 1  \n",
    "\n",
    "t1 = threading.Thread(target=foo) \n",
    "t2 = threading.Thread(target=bar) \n",
    "t1.start(); t2.start()\n",
    "t1.join(); t2.join() \n",
    "print(x)    # Expected result is 0"
   ]
  },
  {
   "cell_type": "markdown",
   "metadata": {},
   "source": [
    "# Performance Test - Threads"
   ]
  },
  {
   "cell_type": "code",
   "execution_count": 3,
   "metadata": {},
   "outputs": [
    {
     "name": "stdout",
     "output_type": "stream",
     "text": [
      "0:00:00.652738\n",
      "0:00:01.104947\n"
     ]
    }
   ],
   "source": [
    "import datetime\n",
    "from threading import * \n",
    "def countdown(n):\n",
    "    while n > 0 :\n",
    "        n = n - 1\n",
    "count = 10000000\n",
    "# Sequential Execution\n",
    "start = datetime.datetime.now()\n",
    "countdown(count)\n",
    "end = datetime.datetime.now()\n",
    "print(end-start)\n",
    "# Threaded Execution\n",
    "start = datetime.datetime.now()\n",
    "t1 = Thread(target= countdown,args=(count/2,))\n",
    "t2 = Thread(target= countdown,args=(count/2,))\n",
    "t1.start(); t2.start();\n",
    "t1.join();t2.join();\n",
    "end = datetime.datetime.now()\n",
    "print(end-start)"
   ]
  },
  {
   "cell_type": "markdown",
   "metadata": {},
   "source": [
    "# MultiProcessing Creation - By extenting Process Class"
   ]
  },
  {
   "cell_type": "code",
   "execution_count": 13,
   "metadata": {},
   "outputs": [
    {
     "name": "stdout",
     "output_type": "stream",
     "text": [
      "10\n",
      "9\n",
      "8\n",
      "7\n",
      "6\n",
      "5\n",
      "4\n",
      "5\n",
      "3\n",
      "2\n",
      "4\n",
      "1\n",
      "3\n",
      "2\n",
      "1\n",
      "Done!\n"
     ]
    }
   ],
   "source": [
    "import multiprocessing\n",
    "# inherit Process class and override \n",
    "#init() & run() function:\n",
    "class countDown(multiprocessing.Process):\n",
    "    def __init__(self,count): \n",
    "        super(countDown,self).__init__()\n",
    "        self.count=count \n",
    "    def run(self): \n",
    "        while self.count > 0: \n",
    "            print(self.count)\n",
    "            self.count -=1\n",
    "#To create a new process, we create an \n",
    "#object of Process class.\n",
    "if __name__=='__main__':\n",
    "    p1 = countDown (10)\n",
    "    p2 = countDown (5) \n",
    "    p1.start() ;p2.start()\n",
    "    p1.join();p2.join() \n",
    "print(\"Done!\")"
   ]
  },
  {
   "cell_type": "markdown",
   "metadata": {},
   "source": [
    "# MultiProcessing Creation - Without extenting Process Class"
   ]
  },
  {
   "cell_type": "code",
   "execution_count": 15,
   "metadata": {},
   "outputs": [
    {
     "name": "stdout",
     "output_type": "stream",
     "text": [
      "10\n",
      "9\n",
      "8\n",
      "7\n",
      "5\n",
      "6\n",
      "4\n",
      "5\n",
      "3\n",
      "4\n",
      "2\n",
      "3\n",
      "1\n",
      "2\n",
      "1\n",
      "Done!\n"
     ]
    }
   ],
   "source": [
    "from multiprocessing import *\n",
    "def countDown (count): \n",
    "    while count > 0: \n",
    "        print(count)\n",
    "        count -=1\n",
    "#To create a new process, we create an \n",
    "#object of Process class.\n",
    "if __name__=='__main__':\n",
    "    p1 = Process(target=countDown, args=(10,)) \n",
    "    p2 = Process(target=countDown, args=(5,)) \n",
    "    p1.start() ;p2.start()\n",
    "    p1.join();p2.join() \n",
    "    print(\"Done!\")"
   ]
  },
  {
   "cell_type": "markdown",
   "metadata": {},
   "source": [
    "# Performance Test - Processes"
   ]
  },
  {
   "cell_type": "code",
   "execution_count": 2,
   "metadata": {},
   "outputs": [
    {
     "name": "stdout",
     "output_type": "stream",
     "text": [
      "0:00:00.656950\n",
      "0:00:00.472159\n"
     ]
    }
   ],
   "source": [
    "import datetime\n",
    "from multiprocessing import * \n",
    "def countdown(n):\n",
    "    while n > 0 :\n",
    "        n = n - 1\n",
    "count = 10000000\n",
    "# Sequential Execution\n",
    "start = datetime.datetime.now()\n",
    "countdown(count)\n",
    "end = datetime.datetime.now()\n",
    "print(end-start)\n",
    "# Threaded Execution\n",
    "start = datetime.datetime.now()\n",
    "t1 = Process(target= countdown,args=(count/2,))\n",
    "t2 = Process(target= countdown,args=(count/2,))\n",
    "t1.start(); t2.start();\n",
    "t1.join();t2.join();\n",
    "end = datetime.datetime.now()\n",
    "print(end-start)"
   ]
  },
  {
   "cell_type": "markdown",
   "metadata": {},
   "source": [
    "# Process Communication - Pipes"
   ]
  },
  {
   "cell_type": "code",
   "execution_count": 37,
   "metadata": {},
   "outputs": [
    {
     "name": "stdout",
     "output_type": "stream",
     "text": [
      "[42, None, 'hello']\n"
     ]
    }
   ],
   "source": [
    "from multiprocessing import *\n",
    "def func(conn):\n",
    "    conn.send([42,None,'hello'])\n",
    "    conn.close()\n",
    "\n",
    "if  __name__=='__main__':\n",
    "    parent_conn,child_conn = Pipe()\n",
    "    p = Process(target=func,args=(child_conn,))\n",
    "    p.start()\n",
    "    print(parent_conn.recv())\n",
    "    p.join()"
   ]
  },
  {
   "cell_type": "code",
   "execution_count": 3,
   "metadata": {},
   "outputs": [
    {
     "name": "stdout",
     "output_type": "stream",
     "text": [
      "Sent: get up\n",
      "Sent: brush your teeth\n",
      "Sent: shower\n",
      "Sent: work\n",
      "Event Received: get up\n",
      "Sent: eod\n",
      "Event Received: brush your teeth\n",
      "Event Received: shower\n",
      "Event Received: work\n",
      "Event Received: End of Day\n"
     ]
    }
   ],
   "source": [
    "from multiprocessing import *\n",
    "def process1_send_function(conn, events):\n",
    "    for event in events:\n",
    "        conn.send(event)\n",
    "        print(\"Sent:\",event)\n",
    "def process2_recv_function(conn):\n",
    "    while True:\n",
    "        event = conn.recv()\n",
    "        if event == \"eod\":\n",
    "            print(\"Event Received: End of Day\")\n",
    "            return\n",
    "        print(f\"Event Received: {event}\")\n",
    "if __name__ == \"__main__\":\n",
    "    events = [\"get up\", \"brush your teeth\", \"shower\", \"work\", \"eod\"]\n",
    "    conn1, conn2 = Pipe()\n",
    "    process_1 = Process(target=process1_send_function, args=(conn1, events))\n",
    "    process_2 = Process(target=process2_recv_function, args=(conn2,))\n",
    "    process_1.start(); process_2.start()\n",
    "    process_1.join(); process_2.join()\n"
   ]
  },
  {
   "cell_type": "markdown",
   "metadata": {},
   "source": [
    "# Process Communication - Queues"
   ]
  },
  {
   "cell_type": "code",
   "execution_count": 49,
   "metadata": {},
   "outputs": [
    {
     "name": "stdout",
     "output_type": "stream",
     "text": [
      "Event Sent: get up\n",
      "Event Sent: brush your teeth\n",
      "Event Sent: shower\n",
      "Event Received: get up\n",
      "Event Sent: work\n",
      "Event Received: brush your teeth\n",
      "Event Sent: eod\n",
      "Event Received: shower\n",
      "Event Received: work\n",
      "Event Received: End of Day\n"
     ]
    }
   ],
   "source": [
    "import multiprocessing\n",
    "def process1_send_function(queue, events):\n",
    "    for event in events:\n",
    "        queue.put(event)\n",
    "        print(f\"Event Sent: {event}\")\n",
    "def process2_recv_function(queue):\n",
    "    while True:\n",
    "        event = queue.get()\n",
    "        if event == \"eod\":\n",
    "            print(\"Event Received: End of Day\")\n",
    "            return\n",
    "        print(f\"Event Received: {event}\")\n",
    "if __name__ == \"__main__\":\n",
    "    events = [\"get up\", \"brush your teeth\", \"shower\", \"work\", \"eod\"]\n",
    "    queue = multiprocessing.Queue()\n",
    "    process_1 = multiprocessing.Process(target=process1_send_function, args=(queue, events))\n",
    "    process_2 = multiprocessing.Process(target=process2_recv_function, args=(queue,))\n",
    "    process_1.start(); process_2.start()\n",
    "    process_1.join(); process_2.join()\n"
   ]
  },
  {
   "cell_type": "markdown",
   "metadata": {},
   "source": [
    "# Process Synchronization - Locks"
   ]
  },
  {
   "cell_type": "code",
   "execution_count": 45,
   "metadata": {},
   "outputs": [
    {
     "name": "stdout",
     "output_type": "stream",
     "text": [
      "22\n"
     ]
    }
   ],
   "source": [
    "from multiprocessing import *\n",
    "# function to withdraw from account \n",
    "def withdraw(balance): \n",
    "    for _ in range(10000): \n",
    "        balance.value = balance.value - 1 \n",
    "# function to deposit to account \n",
    "def deposit(balance): \n",
    "    for _ in range(10000): \n",
    "        balance.value = balance.value + 1 \n",
    "if  __name__=='__main__':\n",
    "    # initial balance (in shared memory) \n",
    "    balance = multiprocessing.Value('i', 100) \n",
    "    # creating new processes \n",
    "    p1 = Process(target=withdraw, args=(balance,)) \n",
    "    p2 = Process(target=deposit, args=(balance,))\n",
    "    p1.start(); p2.start();\n",
    "    p1.join(); p2.join();\n",
    "    print(balance.value)"
   ]
  },
  {
   "cell_type": "code",
   "execution_count": 44,
   "metadata": {},
   "outputs": [
    {
     "name": "stdout",
     "output_type": "stream",
     "text": [
      "100\n"
     ]
    }
   ],
   "source": [
    "from multiprocessing import *\n",
    "# function to withdraw from account \n",
    "def withdraw(balance,lock): \n",
    "    for _ in range(10000): \n",
    "        lock.acquire() \n",
    "        balance.value = balance.value - 1 \n",
    "        lock.release() \n",
    "# function to deposit to account \n",
    "def deposit(balance,lock): \n",
    "    for _ in range(10000): \n",
    "        lock.acquire()\n",
    "        balance.value = balance.value + 1 \n",
    "        lock.release()\n",
    "if  __name__=='__main__': \n",
    "    # initial balance (in shared memory) \n",
    "    balance = multiprocessing.Value('i', 100) \n",
    "    # creating a lock object \n",
    "    lock = multiprocessing.Lock() \n",
    "    # creating new processes \n",
    "    p1 = Process(target=withdraw, args=(balance,lock)) \n",
    "    p2 = Process(target=deposit, args=(balance,lock))\n",
    "    p1.start(); p2.start();\n",
    "    p1.join(); p2.join();\n",
    "    print(balance.value)"
   ]
  },
  {
   "cell_type": "markdown",
   "metadata": {},
   "source": [
    "# Pools"
   ]
  },
  {
   "cell_type": "code",
   "execution_count": 16,
   "metadata": {},
   "outputs": [],
   "source": [
    "import multiprocessing \n",
    "def square(n):\n",
    "    return n*n\n",
    "if __name__ == \"__main__\": \n",
    "    mylist = [1,2,3,4] \n",
    "    # creating a pool object \n",
    "    p = multiprocessing.Pool() \n",
    "    # map list to target function \n",
    "    result = p.map(square, mylist)"
   ]
  },
  {
   "cell_type": "code",
   "execution_count": 17,
   "metadata": {},
   "outputs": [
    {
     "name": "stdout",
     "output_type": "stream",
     "text": [
      "Number of Cores : 72\n",
      "0:00:04.091704\n",
      "0:00:01.916500\n"
     ]
    }
   ],
   "source": [
    "import multiprocessing \n",
    "import os \n",
    "def square(n):\n",
    "    b = n\n",
    "    for i in range(0,100):\n",
    "        b = n*i\n",
    "    return 2*n\n",
    "if __name__ == \"__main__\": \n",
    "    print(\"Number of Cores :\",multiprocessing.cpu_count())\n",
    "    mylist = list(range(1000000))\n",
    "    start = datetime.datetime.now()\n",
    "    for value in mylist:\n",
    "        square(value)\n",
    "    end = datetime.datetime.now()\n",
    "    print(end-start)\n",
    "    # creating a pool object \n",
    "    start = datetime.datetime.now()\n",
    "    p = multiprocessing.Pool() \n",
    "    # map list to target function \n",
    "    result = p.map(square, mylist)\n",
    "    end = datetime.datetime.now()\n",
    "    print(end-start)"
   ]
  },
  {
   "cell_type": "markdown",
   "metadata": {},
   "source": [
    "# Assignment"
   ]
  },
  {
   "cell_type": "code",
   "execution_count": 4,
   "metadata": {},
   "outputs": [
    {
     "ename": "FileNotFoundError",
     "evalue": "[Errno 2] No such file or directory: '/home/c3test/dpgs/rad/16711789331-s1-b3-C03-X-rad-before-nuc.rad'",
     "output_type": "error",
     "traceback": [
      "\u001b[0;31m---------------------------------------------------------------------------\u001b[0m",
      "\u001b[0;31mFileNotFoundError\u001b[0m                         Traceback (most recent call last)",
      "\u001b[0;32m<ipython-input-4-293914400601>\u001b[0m in \u001b[0;36m<module>\u001b[0;34m\u001b[0m\n\u001b[1;32m     27\u001b[0m     \u001b[0mraw_filename\u001b[0m \u001b[0;34m=\u001b[0m \u001b[0minp_dir\u001b[0m \u001b[0;34m+\u001b[0m \u001b[0mfilename\u001b[0m\u001b[0;34m\u001b[0m\u001b[0m\n\u001b[1;32m     28\u001b[0m     \u001b[0mcount\u001b[0m \u001b[0;34m=\u001b[0m \u001b[0;34m(\u001b[0m\u001b[0mheight\u001b[0m \u001b[0;34m*\u001b[0m \u001b[0mwidth\u001b[0m \u001b[0;34m+\u001b[0m \u001b[0mheader_size\u001b[0m\u001b[0;34m)\u001b[0m \u001b[0;34m*\u001b[0m \u001b[0mbytes_per_pixel\u001b[0m\u001b[0;34m\u001b[0m\u001b[0m\n\u001b[0;32m---> 29\u001b[0;31m     \u001b[0mb1\u001b[0m \u001b[0;34m=\u001b[0m \u001b[0mnp\u001b[0m\u001b[0;34m.\u001b[0m\u001b[0mfromfile\u001b[0m\u001b[0;34m(\u001b[0m\u001b[0mraw_filename\u001b[0m\u001b[0;34m,\u001b[0m \u001b[0mdtype\u001b[0m\u001b[0;34m=\u001b[0m\u001b[0mdtype\u001b[0m\u001b[0;34m,\u001b[0m \u001b[0mcount\u001b[0m\u001b[0;34m=\u001b[0m\u001b[0mcount\u001b[0m\u001b[0;34m)\u001b[0m\u001b[0;34m\u001b[0m\u001b[0m\n\u001b[0m\u001b[1;32m     30\u001b[0m     \u001b[0mb1\u001b[0m \u001b[0;34m=\u001b[0m \u001b[0mb1\u001b[0m\u001b[0;34m[\u001b[0m\u001b[0mheader_size\u001b[0m \u001b[0;34m//\u001b[0m \u001b[0mbytes_per_pixel\u001b[0m\u001b[0;34m:\u001b[0m\u001b[0;34m(\u001b[0m\u001b[0mheader_size\u001b[0m \u001b[0;34m//\u001b[0m \u001b[0mbytes_per_pixel\u001b[0m\u001b[0;34m)\u001b[0m \u001b[0;34m+\u001b[0m \u001b[0mheight\u001b[0m \u001b[0;34m*\u001b[0m \u001b[0mwidth\u001b[0m\u001b[0;34m]\u001b[0m\u001b[0;34m\u001b[0m\u001b[0m\n\u001b[1;32m     31\u001b[0m     \u001b[0mb1\u001b[0m \u001b[0;34m=\u001b[0m \u001b[0mb1\u001b[0m\u001b[0;34m.\u001b[0m\u001b[0mreshape\u001b[0m\u001b[0;34m(\u001b[0m\u001b[0mheight\u001b[0m\u001b[0;34m,\u001b[0m \u001b[0mwidth\u001b[0m\u001b[0;34m)\u001b[0m\u001b[0;34m\u001b[0m\u001b[0m\n",
      "\u001b[0;31mFileNotFoundError\u001b[0m: [Errno 2] No such file or directory: '/home/c3test/dpgs/rad/16711789331-s1-b3-C03-X-rad-before-nuc.rad'"
     ]
    }
   ],
   "source": [
    "import numpy as np\n",
    "from datetime import datetime\n",
    "import multiprocessing\n",
    "\n",
    "def image_augmentation(inputlist) :\n",
    "    \n",
    "    updated_list = inputlist\n",
    "    for j in np.arange(100000):\n",
    "        flipped_image = np.fliplr(updated_list)\n",
    "        flipped_image1 = np.flipud(updated_list)\n",
    "        r = np.random.randint(0, 4)    \n",
    "        rotated_image = np.rot90(updated_list,r)\n",
    "\n",
    "    return [flipped_image,flipped_image1,rotated_image]\n",
    "    \n",
    "if __name__ == \"__main__\":\n",
    "    \n",
    "    height = 16000\n",
    "    width = 16080\n",
    "    bytes_per_pixel = 2\n",
    "    dtype = np.uint16\n",
    "    header_size = 0\n",
    "    \n",
    "    inp_dir='/home/c3test/dpgs/rad/'\n",
    "    filename = '16711789331-s1-b3-C03-X-rad-before-nuc.rad'\n",
    "    \n",
    "    raw_filename = inp_dir + filename\n",
    "    count = (height * width + header_size) * bytes_per_pixel\n",
    "    b1 = np.fromfile(raw_filename, dtype=dtype, count=count)\n",
    "    b1 = b1[header_size // bytes_per_pixel:(header_size // bytes_per_pixel) + height * width]\n",
    "    b1 = b1.reshape(height, width)\n",
    "    raw_image = np.float32(b1)\n",
    "    \n",
    "    image_parts = []\n",
    "    for dev in np.hsplit(raw_image, 24):\n",
    "        Is_dev = np.vsplit(dev, 20)\n",
    "        image_parts = image_parts + Is_dev\n",
    "        \n",
    "    print(len(image_parts))\n",
    "    start = datetime.now()\n",
    "    pool = multiprocessing.Pool(processes=32)\n",
    "    outputs = pool.map(image_augmentation, image_parts)\n",
    "    end = datetime.now()\n",
    "    print('===========Time Elapsed==============', end - start)\n",
    "    print(len(outputs))\n",
    "    pool.close()"
   ]
  }
 ],
 "metadata": {
  "kernelspec": {
   "display_name": "Python 3",
   "language": "python",
   "name": "python3"
  },
  "language_info": {
   "codemirror_mode": {
    "name": "ipython",
    "version": 3
   },
   "file_extension": ".py",
   "mimetype": "text/x-python",
   "name": "python",
   "nbconvert_exporter": "python",
   "pygments_lexer": "ipython3",
   "version": "3.7.0"
  }
 },
 "nbformat": 4,
 "nbformat_minor": 2
}
