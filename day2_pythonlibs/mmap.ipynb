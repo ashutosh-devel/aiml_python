{
 "cells": [
  {
   "cell_type": "markdown",
   "metadata": {},
   "source": [
    "# Memory Mapped Files"
   ]
  },
  {
   "cell_type": "markdown",
   "metadata": {},
   "source": [
    "# Reading memory mapped file"
   ]
  },
  {
   "cell_type": "code",
   "execution_count": 16,
   "metadata": {},
   "outputs": [],
   "source": [
    "import os\n",
    "filename = \"/data/hemant/log.txt\"\n",
    "isFile = os.path.isfile(filename)\n",
    "def regular_io(filename):\n",
    "    with open(filename, mode=\"r\", encoding=\"utf8\") as file_obj:\n",
    "        text = file_obj.read()"
   ]
  },
  {
   "cell_type": "code",
   "execution_count": 17,
   "metadata": {},
   "outputs": [],
   "source": [
    "import mmap\n",
    "\n",
    "def mmap_io(filename):\n",
    "    with open(filename, mode=\"r\", encoding=\"utf8\") as file_obj:\n",
    "        with mmap.mmap(file_obj.fileno(), length=0, access=mmap.ACCESS_READ) as mmap_obj:\n",
    "            text = mmap_obj.read()"
   ]
  },
  {
   "cell_type": "code",
   "execution_count": 18,
   "metadata": {},
   "outputs": [
    {
     "data": {
      "text/plain": [
       "[1.4372454149997793, 0.9140535420010565, 0.9068077439878834]"
      ]
     },
     "execution_count": 18,
     "metadata": {},
     "output_type": "execute_result"
    }
   ],
   "source": [
    "import timeit\n",
    "timeit.repeat(\"regular_io(filename)\",repeat=3,number=1,\n",
    "        setup=\"from __main__ import regular_io, filename\")"
   ]
  },
  {
   "cell_type": "code",
   "execution_count": 19,
   "metadata": {},
   "outputs": [
    {
     "data": {
      "text/plain": [
       "[0.5854763259994797, 0.439783167996211, 0.4396393700008048]"
      ]
     },
     "execution_count": 19,
     "metadata": {},
     "output_type": "execute_result"
    }
   ],
   "source": [
    "timeit.repeat(\"mmap_io(filename)\",repeat=3,number=1,\n",
    "...     setup=\"from __main__ import mmap_io, filename\")"
   ]
  },
  {
   "cell_type": "markdown",
   "metadata": {},
   "source": [
    "# mmap object as strings - Slicing "
   ]
  },
  {
   "cell_type": "code",
   "execution_count": 8,
   "metadata": {},
   "outputs": [],
   "source": [
    "import mmap\n",
    "filename = \"/data/hemant/log.txt\"\n",
    "def mmap_io(filename):\n",
    "    with open(filename, mode=\"r\", encoding=\"utf8\") as file_obj:\n",
    "        with mmap.mmap(file_obj.fileno(), length=0, access=mmap.ACCESS_READ) as mmap_obj:\n",
    "            print(mmap_obj[10:20])"
   ]
  },
  {
   "cell_type": "markdown",
   "metadata": {},
   "source": [
    "# Searching memory mapped file"
   ]
  },
  {
   "cell_type": "code",
   "execution_count": 39,
   "metadata": {},
   "outputs": [],
   "source": [
    "import mmap\n",
    "\n",
    "def regular_io_find(filename):\n",
    "    with open(filename, mode=\"r\", encoding=\"utf-8\") as file_obj:\n",
    "        text = file_obj.read()\n",
    "        text.find(\" the \")\n",
    "\n",
    "def mmap_io_find(filename):\n",
    "    with open(filename, mode=\"r\", encoding=\"utf-8\") as file_obj:\n",
    "        with mmap.mmap(file_obj.fileno(), length=0, access=mmap.ACCESS_READ) as mmap_obj:\n",
    "            mmap_obj.find(b\" the \")"
   ]
  },
  {
   "cell_type": "code",
   "execution_count": 40,
   "metadata": {},
   "outputs": [
    {
     "data": {
      "text/plain": [
       "[0.3952411329955794, 0.2799205269984668, 0.23502482900221366]"
      ]
     },
     "execution_count": 40,
     "metadata": {},
     "output_type": "execute_result"
    }
   ],
   "source": [
    "import timeit\n",
    "timeit.repeat(\"regular_io_find(filename)\",repeat=3,number=1,\n",
    "        setup=\"from __main__ import regular_io_find, filename\")"
   ]
  },
  {
   "cell_type": "code",
   "execution_count": 41,
   "metadata": {},
   "outputs": [
    {
     "data": {
      "text/plain": [
       "[0.0007837999874027446, 0.00040584900125395507, 0.000454384004115127]"
      ]
     },
     "execution_count": 41,
     "metadata": {},
     "output_type": "execute_result"
    }
   ],
   "source": [
    "timeit.repeat(\"mmap_io_find(filename)\",repeat=3,number=1,\n",
    "        setup=\"from __main__ import mmap_io_find, filename\")"
   ]
  },
  {
   "cell_type": "markdown",
   "metadata": {},
   "source": [
    "# Memory mapped Objects as Files"
   ]
  },
  {
   "cell_type": "code",
   "execution_count": 52,
   "metadata": {},
   "outputs": [],
   "source": [
    "import mmap\n",
    "def regular_io_find_and_seek(filename):\n",
    "    with open(filename, mode=\"r\", encoding=\"utf-8\") as file_obj:\n",
    "        file_obj.seek(10000)\n",
    "        text = file_obj.read()\n",
    "        text.find(\" the \")"
   ]
  },
  {
   "cell_type": "code",
   "execution_count": 53,
   "metadata": {},
   "outputs": [],
   "source": [
    "def mmap_io_find_and_seek(filename):\n",
    "    with open(filename, mode=\"r\", encoding=\"utf-8\") as file_obj:\n",
    "        with mmap.mmap(file_obj.fileno(), length=0, access=mmap.ACCESS_READ) as mmap_obj:\n",
    "            mmap_obj.seek(10000)\n",
    "            mmap_obj.find(b\" the \")"
   ]
  },
  {
   "cell_type": "code",
   "execution_count": 54,
   "metadata": {},
   "outputs": [
    {
     "data": {
      "text/plain": [
       "[1.0732763529958902, 0.8469445810042089, 0.8576581630040891]"
      ]
     },
     "execution_count": 54,
     "metadata": {},
     "output_type": "execute_result"
    }
   ],
   "source": [
    "import timeit\n",
    "timeit.repeat(\"regular_io_find_and_seek(filename)\",repeat=3,number=1,\n",
    "        setup=\"from __main__ import regular_io_find_and_seek, filename\")"
   ]
  },
  {
   "cell_type": "code",
   "execution_count": 55,
   "metadata": {},
   "outputs": [
    {
     "data": {
      "text/plain": [
       "[0.00016790399968158454, 0.00021273999300319701, 0.0004815139982383698]"
      ]
     },
     "execution_count": 55,
     "metadata": {},
     "output_type": "execute_result"
    }
   ],
   "source": [
    "timeit.repeat(\"mmap_io_find_and_seek(filename)\",repeat=3,number=1,\n",
    "        setup=\"from __main__ import mmap_io_find_and_seek, filename\")"
   ]
  },
  {
   "cell_type": "markdown",
   "metadata": {},
   "source": [
    "# Writing memory mapped file "
   ]
  },
  {
   "cell_type": "code",
   "execution_count": null,
   "metadata": {},
   "outputs": [],
   "source": [
    "import mmap\n",
    "def mmap_io_write(filename, text):\n",
    "    with open(filename, mode=\"w\", encoding=\"utf-8\") as file_obj:\n",
    "        with mmap.mmap(file_obj.fileno(), length=0, access=mmap.ACCESS_WRITE) as mmap_obj:\n",
    "            mmap_obj.write(text)"
   ]
  },
  {
   "cell_type": "code",
   "execution_count": null,
   "metadata": {},
   "outputs": [],
   "source": [
    "import mmap\n",
    "def mmap_io_write(filename):\n",
    "    with open(filename, mode=\"r+\") as file_obj:\n",
    "        with mmap.mmap(file_obj.fileno(), length=0, access=mmap.ACCESS_WRITE) as mmap_obj:\n",
    "            mmap_obj[10:16] = b\"python\"\n",
    "            mmap_obj.flush()"
   ]
  },
  {
   "cell_type": "markdown",
   "metadata": {},
   "source": [
    "# Search and Replace text"
   ]
  },
  {
   "cell_type": "code",
   "execution_count": 59,
   "metadata": {},
   "outputs": [],
   "source": [
    "import mmap\n",
    "import os\n",
    "import shutil\n",
    "\n",
    "def regular_io_find_and_replace(filename):\n",
    "    with open(filename, \"r\", encoding=\"utf-8\") as orig_file_obj:\n",
    "        with open(\"tmp.txt\", \"w\", encoding=\"utf-8\") as new_file_obj:\n",
    "            orig_text = orig_file_obj.read()\n",
    "            new_text = orig_text.replace(\" the \", \" eht \")\n",
    "            new_file_obj.write(new_text)\n",
    "\n",
    "    shutil.copyfile(\"tmp.txt\", filename)\n",
    "    os.remove(\"tmp.txt\")\n",
    "\n",
    "def mmap_io_find_and_replace(filename):\n",
    "    with open(filename, mode=\"r+\", encoding=\"utf-8\") as file_obj:\n",
    "        with mmap.mmap(file_obj.fileno(), length=0, access=mmap.ACCESS_WRITE) as mmap_obj:\n",
    "            orig_text = mmap_obj.read()\n",
    "            new_text = orig_text.replace(b\" eht \", b\" the \")\n",
    "            mmap_obj[:] = new_text\n",
    "            mmap_obj.flush()"
   ]
  },
  {
   "cell_type": "code",
   "execution_count": 57,
   "metadata": {},
   "outputs": [
    {
     "data": {
      "text/plain": [
       "[4.253578268006095, 3.1810569380031666, 3.3544113550015027]"
      ]
     },
     "execution_count": 57,
     "metadata": {},
     "output_type": "execute_result"
    }
   ],
   "source": [
    "import timeit\n",
    "timeit.repeat(\"regular_io_find_and_replace(filename)\",repeat=3,number=1,\n",
    "        setup=\"from __main__ import regular_io_find_and_replace, filename\")"
   ]
  },
  {
   "cell_type": "code",
   "execution_count": 60,
   "metadata": {},
   "outputs": [
    {
     "data": {
      "text/plain": [
       "[2.264397455001017, 1.5541641849995358, 1.598239985993132]"
      ]
     },
     "execution_count": 60,
     "metadata": {},
     "output_type": "execute_result"
    }
   ],
   "source": [
    "timeit.repeat(\"mmap_io_find_and_replace(filename)\",repeat=3,number=1,\n",
    "        setup=\"from __main__ import mmap_io_find_and_replace, filename\")"
   ]
  },
  {
   "cell_type": "code",
   "execution_count": 9,
   "metadata": {},
   "outputs": [],
   "source": [
    "mystring = \"This is python training classroom\"\n",
    "repeatedstring = ' '.join([mystring]*5000000)\n",
    "#print(repeatedstring)\n",
    "file = open(\"log.txt\",\"w\")\n",
    "file.write(repeatedstring)\n",
    "file.close()"
   ]
  },
  {
   "cell_type": "code",
   "execution_count": null,
   "metadata": {},
   "outputs": [],
   "source": []
  }
 ],
 "metadata": {
  "kernelspec": {
   "display_name": "Python 3",
   "language": "python",
   "name": "python3"
  },
  "language_info": {
   "codemirror_mode": {
    "name": "ipython",
    "version": 3
   },
   "file_extension": ".py",
   "mimetype": "text/x-python",
   "name": "python",
   "nbconvert_exporter": "python",
   "pygments_lexer": "ipython3",
   "version": "3.7.0"
  }
 },
 "nbformat": 4,
 "nbformat_minor": 2
}
