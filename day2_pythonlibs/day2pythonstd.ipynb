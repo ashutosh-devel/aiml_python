{
 "cells": [
  {
   "cell_type": "code",
   "execution_count": null,
   "id": "2f0f1c38",
   "metadata": {},
   "outputs": [],
   "source": [
    "# Defining  function\n",
    "def sum(a,b):\n",
    "    return a+b\n",
    "\n",
    "\n",
    "\n",
    "\n",
    "\n",
    "print(\"hey there\")\n",
    "print(sum(1,2))\n",
    "  \n",
    "  \n",
    "\n"
   ]
  },
  {
   "cell_type": "code",
   "execution_count": null,
   "id": "de8b3a5b",
   "metadata": {},
   "outputs": [],
   "source": [
    "# Defining main function\n",
    "def sum(a,b):\n",
    "    return a+b\n",
    "\n",
    "\n",
    "\n",
    "\n",
    "def main():\n",
    "    print(\"hey there\")\n",
    "    print(sum(1,2))\n",
    "  \n",
    "  \n",
    "# Using the special variable \n",
    "# __name__\n",
    "if __name__==\"__main__\":\n",
    "    main()\n"
   ]
  },
  {
   "cell_type": "code",
   "execution_count": null,
   "id": "d2da1154",
   "metadata": {},
   "outputs": [],
   "source": [
    "import os\n",
    "dir(os)\n",
    "os.mkdir(\"C:\\\\MyPythonProject\") \n",
    "os.chdir(\"C:\\\\MyPythonProject\") \n",
    "os.getcwd() \n",
    "os.chdir(\"..\") \n",
    "os.getcwd() \n",
    "os.listdir(\"C:\\\\MyPythonProject\") "
   ]
  },
  {
   "cell_type": "code",
   "execution_count": null,
   "id": "106cf052",
   "metadata": {},
   "outputs": [],
   "source": []
  },
  {
   "cell_type": "code",
   "execution_count": null,
   "id": "75ffb6ac",
   "metadata": {},
   "outputs": [],
   "source": [
    "dir(os)"
   ]
  },
  {
   "cell_type": "code",
   "execution_count": null,
   "id": "f878cf14",
   "metadata": {},
   "outputs": [],
   "source": [
    "import os\n",
    "for (root,dirs,files) in os.walk('.', topdown=True):\n",
    "    print (root)\n",
    "    print (dirs)\n",
    "    print (files)\n",
    "    print ('--------------------------------')\n",
    "        "
   ]
  },
  {
   "cell_type": "code",
   "execution_count": null,
   "id": "15981be2",
   "metadata": {},
   "outputs": [],
   "source": [
    "command = 'mkdir  output'\n",
    "import os\n",
    "os.system(command)\n"
   ]
  },
  {
   "cell_type": "code",
   "execution_count": null,
   "id": "78abff1e",
   "metadata": {},
   "outputs": [],
   "source": [
    "\n"
   ]
  },
  {
   "cell_type": "code",
   "execution_count": null,
   "id": "1339e087",
   "metadata": {},
   "outputs": [],
   "source": [
    "\n",
    "\n",
    "file=open(\"D:\\\\t1.txt\",'w+')\n",
    "file.write(\"This will write a line\")\n",
    "file.close()\n",
    "file=open(\"D:\\\\t1.txt\",'a')\n",
    "file.write(\"This will add a line\")\n",
    "file.close()\n",
    "\n",
    "with open(\"D:\\\\t1.txt\") as file :\n",
    "    data=file.read()\n",
    "print(data)"
   ]
  },
  {
   "cell_type": "code",
   "execution_count": null,
   "id": "7bb1f8c8",
   "metadata": {},
   "outputs": [],
   "source": [
    "import glob, os\n",
    "os.chdir(\"D:\\\\temp\")\n",
    "for file in glob.glob(\"*.txt\"):\n",
    "    print(file)"
   ]
  },
  {
   "cell_type": "code",
   "execution_count": null,
   "id": "eba22040",
   "metadata": {},
   "outputs": [],
   "source": [
    "# Python code \n",
    "import os\n",
    "filename=\"D:\\\\temp\\\\t1.txt\"\n",
    "if os.path.isfile(filename):\n",
    "    if(os.path.getsize(filename)>0):\n",
    "\n",
    "        with open(filename,\"r\") as file:\n",
    "            data=file.readlines()\n",
    "            for line in data:\n",
    "                word = line.split()\n",
    "                print (word)\n",
    "    else:\n",
    "        print(f\" {filename}  exists but zero size\")\n",
    "else:\n",
    "    print(f\" {filename} doesnot exists\")"
   ]
  },
  {
   "cell_type": "code",
   "execution_count": null,
   "id": "581d5b4f",
   "metadata": {},
   "outputs": [],
   "source": [
    "import math\n",
    "print(math.pi)\n",
    "\n",
    "print(math.e)\n",
    "math.sqrt(100)\n",
    "\n",
    "math.sqrt(40)\n",
    "\n",
    "math.log(128)\n",
    "\n",
    "math.log2(12)"
   ]
  },
  {
   "cell_type": "code",
   "execution_count": null,
   "id": "5b266db0",
   "metadata": {},
   "outputs": [],
   "source": [
    "import math\n",
    "a=math.pi/6\n",
    "print(\"The value of sine of pi/6 is : \" , end=\"\")\n",
    "print(math.sin(a))\n",
    "# returning the value of cosine of pi/6\n",
    "print (\"The value of cosine of pi/6 is : \", end=\"\")\n",
    "print (math.cos(a))\n",
    "# returning the value of tangent of pi/6\n",
    "print (\"The value of tangent of pi/6 is : \", end=\"\")\n",
    "print (math.tan(a))\n",
    "##########################################\n",
    "x=10\n",
    "y=2\n",
    "math.exp(x)\n",
    "math.log(x)\n",
    "math.log10(x)\n",
    "math.pow(x,y)\n",
    "math.sqrt(x)\n"
   ]
  },
  {
   "cell_type": "code",
   "execution_count": null,
   "id": "2c6b4763",
   "metadata": {},
   "outputs": [],
   "source": [
    "import math as mt\n",
    "x=2\n",
    "y=2\n",
    "f=3*mt.pow(x,2)+mt.sqrt(mt.pow(x,2)+mt.pow(y,2))+mt.exp(mt.log(x))\n",
    "print(f)"
   ]
  },
  {
   "cell_type": "code",
   "execution_count": null,
   "id": "193f85c9",
   "metadata": {},
   "outputs": [],
   "source": [
    "def fun(x,y):\n",
    "\treturn(3*mt.pow(x,2)+mt.sqrt(mt.pow(x,2)+mt.pow(y,2))+mt.exp(mt.log(x)))\n",
    "\n",
    "print(fun(3,3))\n"
   ]
  },
  {
   "cell_type": "code",
   "execution_count": null,
   "id": "a1139c9e",
   "metadata": {},
   "outputs": [],
   "source": [
    "import math,cmath\n",
    "#math.sqrt(-29)\n",
    "\n",
    "print(cmath.sqrt(-29))\n",
    "\n",
    "type(cmath.sqrt(-29))\n",
    "\n",
    "print(cmath.polar(3+7j))\n"
   ]
  },
  {
   "cell_type": "code",
   "execution_count": null,
   "id": "9e184762",
   "metadata": {},
   "outputs": [],
   "source": [
    "import statistics as stat\n",
    "list1 =[8, -8, 7, 3, -5, 4, -1, 2, -7, -10, -6, -1, -3, 1, -2, 6,10, 1, -9, -9]\n",
    "\n",
    "stat.mean(list1)\n",
    "\n",
    "stat.median(list1)\n",
    "\n",
    "stat.stdev(list1)"
   ]
  },
  {
   "cell_type": "code",
   "execution_count": null,
   "id": "5f419b35",
   "metadata": {},
   "outputs": [],
   "source": [
    "from datetime import date\n",
    "# calling the today\n",
    "# function of date class\n",
    "today = date.today()\n",
    "print(\"Today's date is\", today)\n",
    "# date object of today's date\n",
    "print(\"Current year:\", today.year)\n",
    "print(\"Current month:\", today.month)\n",
    "print(\"Current day:\", today.day)"
   ]
  },
  {
   "cell_type": "code",
   "execution_count": null,
   "id": "6e85ecb7",
   "metadata": {},
   "outputs": [],
   "source": [
    "from datetime import datetime\n",
    "starttime = datetime.now()\n",
    "\n",
    "endtime = datetime.now()\n",
    "\n",
    "elapsed_time=endtime-starttime\n",
    "print(elapsed_time)"
   ]
  },
  {
   "cell_type": "code",
   "execution_count": null,
   "id": "16d77319",
   "metadata": {},
   "outputs": [],
   "source": [
    "endtime = datetime.now()\n",
    "\n",
    "elapsed_time=endtime-starttime\n",
    "print(elapsed_time)\n"
   ]
  },
  {
   "cell_type": "code",
   "execution_count": null,
   "id": "f49b1572",
   "metadata": {},
   "outputs": [],
   "source": [
    "from datetime import datetime as dt\n",
    "# Getting current date and time\n",
    "now = dt.now()\n",
    "print(\"Without formatting\", now)\n",
    "s = now.strftime(\"%A %m %Y\")\n",
    "print(s)\n",
    "s = now.strftime(\"%H:%M:%S\")\n",
    "print(s)\n"
   ]
  },
  {
   "cell_type": "code",
   "execution_count": null,
   "id": "afcde3b1",
   "metadata": {},
   "outputs": [],
   "source": [
    "import string\n",
    "import string\n",
    "\n",
    "# string module constants\n",
    "print(string.ascii_letters)\n",
    "print(string.ascii_lowercase)\n",
    "print(string.ascii_uppercase)\n",
    "print(string.digits)\n",
    "print(string.hexdigits)\n",
    "print(string.whitespace)  # ' \\t\\n\\r\\x0b\\x0c'\n",
    "print(string.punctuation)"
   ]
  },
  {
   "cell_type": "code",
   "execution_count": null,
   "id": "ec3e8d45",
   "metadata": {},
   "outputs": [],
   "source": [
    "import string\n",
    "s='SpaceApplicationsCentre'\n",
    "s1='space applications centre'\n",
    "string.capwords(s)\n",
    "string.capwords(s1)\n",
    "s.startswith('S')"
   ]
  },
  {
   "cell_type": "code",
   "execution_count": null,
   "id": "7119fbb3",
   "metadata": {},
   "outputs": [],
   "source": [
    "# importing module\n",
    "import logging\n",
    "# Create and configure logger\n",
    "logging.basicConfig(filename=\"newfile.log\",\n",
    "                    format='%(asctime)s %(message)s',\n",
    "                    filemode='w')\n",
    "# Creating an object\n",
    "logger = logging.getLogger()\n",
    "# Setting the threshold of logger to DEBUG\n",
    "logger.setLevel(logging.DEBUG)\n",
    "# Test messages\n",
    "logger.debug(\"Harmless debug Message\")\n",
    "logger.info(\"Just an information\")\n",
    "logger.warning(\"Its a Warning\")\n",
    "logger.error(\"Did you try to divide by zero\")\n",
    "logger.critical(\"Internet is down\")"
   ]
  },
  {
   "cell_type": "code",
   "execution_count": null,
   "id": "e5bff32e",
   "metadata": {},
   "outputs": [],
   "source": [
    "\n"
   ]
  },
  {
   "cell_type": "code",
   "execution_count": null,
   "id": "678e03fa",
   "metadata": {},
   "outputs": [],
   "source": []
  }
 ],
 "metadata": {
  "kernelspec": {
   "display_name": "Python 3 (ipykernel)",
   "language": "python",
   "name": "python3"
  },
  "language_info": {
   "codemirror_mode": {
    "name": "ipython",
    "version": 3
   },
   "file_extension": ".py",
   "mimetype": "text/x-python",
   "name": "python",
   "nbconvert_exporter": "python",
   "pygments_lexer": "ipython3",
   "version": "3.10.9"
  }
 },
 "nbformat": 4,
 "nbformat_minor": 5
}
