{
 "cells": [
  {
   "cell_type": "markdown",
   "metadata": {},
   "source": [
    "# Working with binary data"
   ]
  },
  {
   "cell_type": "markdown",
   "metadata": {},
   "source": [
    "# Bytes and bytearray Type"
   ]
  },
  {
   "cell_type": "code",
   "execution_count": 1,
   "metadata": {},
   "outputs": [
    {
     "data": {
      "text/plain": [
       "['h', 'e', 'l', 'l', 'o']"
      ]
     },
     "execution_count": 1,
     "metadata": {},
     "output_type": "execute_result"
    }
   ],
   "source": [
    "text =\"hello\"\n",
    "list(text)"
   ]
  },
  {
   "cell_type": "code",
   "execution_count": 2,
   "metadata": {},
   "outputs": [
    {
     "data": {
      "text/plain": [
       "[104, 101, 108, 108, 111]"
      ]
     },
     "execution_count": 2,
     "metadata": {},
     "output_type": "execute_result"
    }
   ],
   "source": [
    "data=b\"hello\"\n",
    "list(data)"
   ]
  },
  {
   "cell_type": "code",
   "execution_count": 3,
   "metadata": {},
   "outputs": [
    {
     "data": {
      "text/plain": [
       "b'abc'"
      ]
     },
     "execution_count": 3,
     "metadata": {},
     "output_type": "execute_result"
    }
   ],
   "source": [
    "bytestr=bytes(b'abc')\n",
    "# initializing a string with b \n",
    "# makes it a binary string\n",
    "bytestr"
   ]
  },
  {
   "cell_type": "code",
   "execution_count": 4,
   "metadata": {},
   "outputs": [
    {
     "data": {
      "text/plain": [
       "97"
      ]
     },
     "execution_count": 4,
     "metadata": {},
     "output_type": "execute_result"
    }
   ],
   "source": [
    "bytestr[0]"
   ]
  },
  {
   "cell_type": "code",
   "execution_count": 5,
   "metadata": {},
   "outputs": [
    {
     "ename": "TypeError",
     "evalue": "'bytes' object does not support item assignment",
     "output_type": "error",
     "traceback": [
      "\u001b[0;31m---------------------------------------------------------------------------\u001b[0m",
      "\u001b[0;31mTypeError\u001b[0m                                 Traceback (most recent call last)",
      "\u001b[0;32m<ipython-input-5-a726d6bf63df>\u001b[0m in \u001b[0;36m<module>\u001b[0;34m\u001b[0m\n\u001b[0;32m----> 1\u001b[0;31m \u001b[0mbytestr\u001b[0m\u001b[0;34m[\u001b[0m\u001b[0;36m0\u001b[0m\u001b[0;34m]\u001b[0m \u001b[0;34m=\u001b[0m \u001b[0;36m98\u001b[0m\u001b[0;34m\u001b[0m\u001b[0m\n\u001b[0m",
      "\u001b[0;31mTypeError\u001b[0m: 'bytes' object does not support item assignment"
     ]
    }
   ],
   "source": [
    "bytestr[0] = 98"
   ]
  },
  {
   "cell_type": "code",
   "execution_count": 6,
   "metadata": {},
   "outputs": [
    {
     "name": "stdout",
     "output_type": "stream",
     "text": [
      "bytearray(b'\\xff\\x0f\\xff')\n",
      "b'\\xff\\x0f\\xff'\n"
     ]
    }
   ],
   "source": [
    "# Cast bytes to bytearray\n",
    "mutable_bytes = bytearray(b'\\x00\\x0F')\n",
    "\n",
    "# Bytearray allows modification\n",
    "mutable_bytes[0] = 255\n",
    "mutable_bytes.append(255)\n",
    "print(mutable_bytes)\n",
    "\n",
    "# Cast bytearray back to bytes\n",
    "immutable_bytes = bytes(mutable_bytes)\n",
    "print(immutable_bytes)"
   ]
  },
  {
   "cell_type": "markdown",
   "metadata": {},
   "source": [
    "# Writing Bytes to file"
   ]
  },
  {
   "cell_type": "code",
   "execution_count": 7,
   "metadata": {},
   "outputs": [
    {
     "name": "stdout",
     "output_type": "stream",
     "text": [
      "Wrote 4 bytes.\n"
     ]
    }
   ],
   "source": [
    "# Pass \"wb\" to write a new file, or \"ab\" to append\n",
    "with open(\"test.txt\", \"wb\") as binary_file:\n",
    "    # Write text or bytes to the file\n",
    "    binary_file.write(\"Write text by encoding\\n\".encode('utf8'))\n",
    "    num_bytes_written = binary_file.write(b'\\xDE\\xAD\\xBE\\xEF')\n",
    "    print(\"Wrote %d bytes.\" % num_bytes_written)"
   ]
  },
  {
   "cell_type": "markdown",
   "metadata": {},
   "source": [
    "# Reading Bytes from a file"
   ]
  },
  {
   "cell_type": "code",
   "execution_count": 8,
   "metadata": {},
   "outputs": [
    {
     "name": "stdout",
     "output_type": "stream",
     "text": [
      "b'Write text by encoding\\n\\xde\\xad\\xbe\\xef'\n"
     ]
    }
   ],
   "source": [
    "with open(\"test.txt\", \"rb\") as binary_file:\n",
    "    # Read the whole file at once\n",
    "    data = binary_file.read()\n",
    "    print(data)"
   ]
  },
  {
   "cell_type": "markdown",
   "metadata": {},
   "source": [
    "# Reading file line by line"
   ]
  },
  {
   "cell_type": "code",
   "execution_count": 9,
   "metadata": {},
   "outputs": [
    {
     "name": "stdout",
     "output_type": "stream",
     "text": [
      "b'Write text by encoding\\n'\n",
      "b'\\xde\\xad\\xbe\\xef'\n"
     ]
    }
   ],
   "source": [
    "with open(\"test.txt\", \"rb\") as text_file:\n",
    "    # One option is to call readline() explicitly\n",
    "    # single_line = text_file.readline()\n",
    "\n",
    "    # It is easier to use a for loop to iterate each line\n",
    "    for line in text_file:\n",
    "        print(line)"
   ]
  },
  {
   "cell_type": "markdown",
   "metadata": {},
   "source": [
    "# Getting size of a file"
   ]
  },
  {
   "cell_type": "code",
   "execution_count": 10,
   "metadata": {},
   "outputs": [
    {
     "name": "stdout",
     "output_type": "stream",
     "text": [
      "27\n"
     ]
    }
   ],
   "source": [
    "import os\n",
    "file_length_in_bytes = os.path.getsize(\"test.txt\")\n",
    "print(file_length_in_bytes)"
   ]
  },
  {
   "cell_type": "markdown",
   "metadata": {},
   "source": [
    "# Seeking a specific position in a file"
   ]
  },
  {
   "cell_type": "code",
   "execution_count": 11,
   "metadata": {},
   "outputs": [
    {
     "name": "stdout",
     "output_type": "stream",
     "text": [
      "b'Wr'\n"
     ]
    }
   ],
   "source": [
    "# Seek can be called one of two ways:\n",
    "#   x.seek(offset)\n",
    "#   x.seek(offset, starting_point)\n",
    "\n",
    "# starting_point can be 0, 1, or 2\n",
    "# 0 - Default. Offset relative to beginning of file\n",
    "# 1 - Start from the current position in the file\n",
    "# 2 - Start from the end of a file (will require a negative offset)\n",
    "\n",
    "with open(\"test.txt\", \"rb\") as binary_file:\n",
    "    # Seek a specific position in the file and read N bytes\n",
    "    binary_file.seek(0, 0)  # Go to beginning of the file\n",
    "    couple_bytes = binary_file.read(2)\n",
    "    print(couple_bytes)"
   ]
  },
  {
   "cell_type": "markdown",
   "metadata": {},
   "source": [
    "# Getting system byte order"
   ]
  },
  {
   "cell_type": "code",
   "execution_count": 18,
   "metadata": {},
   "outputs": [
    {
     "name": "stdout",
     "output_type": "stream",
     "text": [
      "Native byteorder:  little\n"
     ]
    }
   ],
   "source": [
    "# Find out what byte order your system uses\n",
    "import sys\n",
    "print(\"Native byteorder: \", sys.byteorder)"
   ]
  },
  {
   "cell_type": "markdown",
   "metadata": {},
   "source": [
    "# Integer to Bytes conversion"
   ]
  },
  {
   "cell_type": "code",
   "execution_count": 25,
   "metadata": {},
   "outputs": [
    {
     "name": "stdout",
     "output_type": "stream",
     "text": [
      "b'\\x00\\x10'\n"
     ]
    }
   ],
   "source": [
    "i = 16\n",
    "# Create two byte from the integer 16\n",
    "two_byte = i.to_bytes(2, byteorder='big', signed=False) \n",
    "print(two_byte)"
   ]
  },
  {
   "cell_type": "code",
   "execution_count": 26,
   "metadata": {},
   "outputs": [
    {
     "name": "stdout",
     "output_type": "stream",
     "text": [
      "b'\\x10\\x00'\n"
     ]
    }
   ],
   "source": [
    "i = 16\n",
    "# Create two bytes from the integer\n",
    "two_byte = i.to_bytes(2, byteorder='little', signed=False)\n",
    "print(two_byte)"
   ]
  },
  {
   "cell_type": "code",
   "execution_count": 27,
   "metadata": {},
   "outputs": [
    {
     "name": "stdout",
     "output_type": "stream",
     "text": [
      "b'\\xf0\\xff'\n"
     ]
    }
   ],
   "source": [
    "i = -16\n",
    "# Create two bytes from the integer\n",
    "two_byte = i.to_bytes(2, byteorder='little', signed=True)\n",
    "print(two_byte)"
   ]
  },
  {
   "cell_type": "code",
   "execution_count": 28,
   "metadata": {},
   "outputs": [
    {
     "name": "stdout",
     "output_type": "stream",
     "text": [
      "b'\\xff\\xfe\\xfd\\xfc'\n"
     ]
    }
   ],
   "source": [
    "# Create bytes from a list of integers with values from 0-255\n",
    "bytes_from_list = bytes([255, 254, 253, 252])\n",
    "print(bytes_from_list)"
   ]
  },
  {
   "cell_type": "code",
   "execution_count": 29,
   "metadata": {},
   "outputs": [
    {
     "name": "stdout",
     "output_type": "stream",
     "text": [
      "240\n"
     ]
    }
   ],
   "source": [
    "# Create a byte from a base 2 integer\n",
    "one_byte = int('11110000', 2)\n",
    "print(one_byte)"
   ]
  },
  {
   "cell_type": "markdown",
   "metadata": {},
   "source": [
    "# Bytes to integer conversion"
   ]
  },
  {
   "cell_type": "code",
   "execution_count": 30,
   "metadata": {},
   "outputs": [
    {
     "name": "stdout",
     "output_type": "stream",
     "text": [
      "240\n"
     ]
    }
   ],
   "source": [
    "# Create an int from bytes. Default is unsigned.\n",
    "some_bytes = b'\\x00\\xF0'\n",
    "i = int.from_bytes(some_bytes, byteorder='big')\n",
    "print(i)"
   ]
  },
  {
   "cell_type": "code",
   "execution_count": 31,
   "metadata": {},
   "outputs": [
    {
     "name": "stdout",
     "output_type": "stream",
     "text": [
      "15\n"
     ]
    }
   ],
   "source": [
    "# Create a signed int\n",
    "i = int.from_bytes(b'\\x00\\x0F', byteorder='big', signed=True)\n",
    "print(i)"
   ]
  },
  {
   "cell_type": "markdown",
   "metadata": {},
   "source": [
    "# Character Encoding"
   ]
  },
  {
   "cell_type": "code",
   "execution_count": 32,
   "metadata": {},
   "outputs": [
    {
     "name": "stdout",
     "output_type": "stream",
     "text": [
      "I am text.\n"
     ]
    }
   ],
   "source": [
    "# Binary to Text\n",
    "binary_data = b'I am text.'\n",
    "text = binary_data.decode('utf-8')\n",
    "print(text)"
   ]
  },
  {
   "cell_type": "code",
   "execution_count": 33,
   "metadata": {},
   "outputs": [
    {
     "name": "stdout",
     "output_type": "stream",
     "text": [
      "ABC\n"
     ]
    }
   ],
   "source": [
    "binary_data = bytes([65, 66, 67])  \n",
    "# ASCII values for A, B, C\n",
    "text = binary_data.decode('utf-8')\n",
    "print(text)"
   ]
  },
  {
   "cell_type": "code",
   "execution_count": 34,
   "metadata": {},
   "outputs": [
    {
     "name": "stdout",
     "output_type": "stream",
     "text": [
      "<class 'bytes'>\n"
     ]
    }
   ],
   "source": [
    "# Text to Binary\n",
    "message = \"Hello\"  # str\n",
    "binary_message = message.encode('utf-8')\n",
    "print(type(binary_message))  # bytes"
   ]
  },
  {
   "cell_type": "markdown",
   "metadata": {},
   "source": [
    "# Format Strings"
   ]
  },
  {
   "cell_type": "code",
   "execution_count": 35,
   "metadata": {},
   "outputs": [
    {
     "name": "stdout",
     "output_type": "stream",
     "text": [
      "255\n",
      "11111111\n",
      "ff\n",
      "377\n"
     ]
    }
   ],
   "source": [
    "a_byte = b'\\xff'  # 255\n",
    "i = ord(a_byte)   # Get the integer value of the byte\n",
    "\n",
    "bin = \"{0:b}\".format(i) # binary: 11111111\n",
    "hex = \"{0:x}\".format(i) # hexadecimal: ff\n",
    "oct = \"{0:o}\".format(i) # octal: 377\n",
    "\n",
    "print(i)\n",
    "print(bin)\n",
    "print(hex)\n",
    "print(oct)"
   ]
  },
  {
   "cell_type": "markdown",
   "metadata": {},
   "source": [
    "# Bitwise Operations"
   ]
  },
  {
   "cell_type": "code",
   "execution_count": 36,
   "metadata": {},
   "outputs": [
    {
     "name": "stdout",
     "output_type": "stream",
     "text": [
      "0\n"
     ]
    }
   ],
   "source": [
    "byte1 = int('11110000', 2)  # 240\n",
    "byte2 = int('00001111', 2)  # 15\n",
    "byte3 = int('01010101', 2)  # 85\n",
    "\n",
    "# AND\n",
    "print(byte1 & byte2)"
   ]
  },
  {
   "cell_type": "code",
   "execution_count": 37,
   "metadata": {},
   "outputs": [
    {
     "name": "stdout",
     "output_type": "stream",
     "text": [
      "255\n"
     ]
    }
   ],
   "source": [
    "# OR\n",
    "print(byte1 | byte2)"
   ]
  },
  {
   "cell_type": "code",
   "execution_count": 38,
   "metadata": {},
   "outputs": [
    {
     "name": "stdout",
     "output_type": "stream",
     "text": [
      "165\n"
     ]
    }
   ],
   "source": [
    "# XOR\n",
    "print(byte1 ^ byte3)"
   ]
  },
  {
   "cell_type": "code",
   "execution_count": 39,
   "metadata": {},
   "outputs": [
    {
     "name": "stdout",
     "output_type": "stream",
     "text": [
      "1\n"
     ]
    }
   ],
   "source": [
    "# Shifting right will lose the right-most bit\n",
    "print(byte2 >> 3)"
   ]
  },
  {
   "cell_type": "code",
   "execution_count": 40,
   "metadata": {},
   "outputs": [
    {
     "name": "stdout",
     "output_type": "stream",
     "text": [
      "30\n"
     ]
    }
   ],
   "source": [
    "# Shifting left will add a 0 bit on the right side\n",
    "print(byte2 << 1)"
   ]
  },
  {
   "cell_type": "code",
   "execution_count": 41,
   "metadata": {},
   "outputs": [
    {
     "name": "stdout",
     "output_type": "stream",
     "text": [
      "0\n",
      "1\n"
     ]
    }
   ],
   "source": [
    "# See if a single bit is set\n",
    "bit_mask = int('00000001', 2)  # Bit 1\n",
    "print(bit_mask & byte1)  # Is bit set in byte1?\n",
    "print(bit_mask & byte2)  # Is bit set in byte2?"
   ]
  },
  {
   "cell_type": "markdown",
   "metadata": {},
   "source": [
    "# Struct Module"
   ]
  },
  {
   "cell_type": "code",
   "execution_count": 42,
   "metadata": {},
   "outputs": [
    {
     "name": "stdout",
     "output_type": "stream",
     "text": [
      "b'8\\xaf\\x81\\x00AZ'\n"
     ]
    }
   ],
   "source": [
    "import struct\n",
    "# struct.pack () - Packing values to Python byte-string (byte object)\n",
    "# The first parameter is the format string. Here it specifies the data is structured\n",
    "# with a single four-byte integer followed by two characters.\n",
    "# The rest of the parameters are the values for each item in order\n",
    "binary_data = struct.pack(\"icc\", 8499000, b'A', b'Z')\n",
    "print(binary_data)"
   ]
  },
  {
   "cell_type": "code",
   "execution_count": 43,
   "metadata": {},
   "outputs": [
    {
     "name": "stdout",
     "output_type": "stream",
     "text": [
      "(8499000, b'A', b'Z')\n"
     ]
    }
   ],
   "source": [
    "# When unpacking, you receive a tuple of all data in the same order\n",
    "tuple_of_data = struct.unpack(\"icc\", binary_data)\n",
    "print(tuple_of_data)"
   ]
  },
  {
   "cell_type": "code",
   "execution_count": 46,
   "metadata": {},
   "outputs": [
    {
     "name": "stdout",
     "output_type": "stream",
     "text": [
      "The size of 3 integer is : 12\n",
      "The size of 5 char is : 5\n",
      "The total size is : 18\n"
     ]
    }
   ],
   "source": [
    "import struct\n",
    "print(\"The size of 3 integer is :\", struct.calcsize('iii'))\n",
    "print(\"The size of 5 char is :\", struct.calcsize('ccccc'))\n",
    "print(\"The total size is :\", struct.calcsize('ffiicc'))"
   ]
  },
  {
   "cell_type": "markdown",
   "metadata": {},
   "source": [
    "# Examples"
   ]
  },
  {
   "cell_type": "code",
   "execution_count": 3,
   "metadata": {},
   "outputs": [
    {
     "name": "stdout",
     "output_type": "stream",
     "text": [
      "Files match.\n"
     ]
    }
   ],
   "source": [
    "# diff.py - Do two files match?\n",
    "import sys\n",
    "\n",
    "with open('BAND1.jpg', 'rb') as file1, \\\n",
    "        open('BAND2.jpg', 'rb') as file2:\n",
    "    data1 = file1.read()\n",
    "    data2 = file2.read()\n",
    "\n",
    "if data1 != data2:\n",
    "    print(\"Files do not match.\")\n",
    "else:\n",
    "    print(\"Files match.\")"
   ]
  },
  {
   "cell_type": "code",
   "execution_count": 1,
   "metadata": {},
   "outputs": [
    {
     "name": "stdout",
     "output_type": "stream",
     "text": [
      "JPEG detected.\n"
     ]
    }
   ],
   "source": [
    "#is_jpeg.py - Does the file have a JPEG binary signature?\n",
    "import sys\n",
    "import binascii\n",
    "\n",
    "jpeg_signatures = [\n",
    "    binascii.unhexlify(b'FFD8FFD8'),\n",
    "    binascii.unhexlify(b'FFD8FFE0'),\n",
    "    binascii.unhexlify(b'FFD8FFE1')\n",
    "]\n",
    "\n",
    "with open('BAND1.jpg', 'rb') as file:\n",
    "    first_four_bytes = file.read(4)\n",
    "\n",
    "    if first_four_bytes in jpeg_signatures:\n",
    "        print(\"JPEG detected.\")\n",
    "    else:\n",
    "        print(\"File does not look like a JPEG.\")"
   ]
  },
  {
   "cell_type": "code",
   "execution_count": null,
   "metadata": {},
   "outputs": [],
   "source": []
  }
 ],
 "metadata": {
  "kernelspec": {
   "display_name": "Python 3",
   "language": "python",
   "name": "python3"
  },
  "language_info": {
   "codemirror_mode": {
    "name": "ipython",
    "version": 3
   },
   "file_extension": ".py",
   "mimetype": "text/x-python",
   "name": "python",
   "nbconvert_exporter": "python",
   "pygments_lexer": "ipython3",
   "version": "3.7.0"
  }
 },
 "nbformat": 4,
 "nbformat_minor": 2
}
